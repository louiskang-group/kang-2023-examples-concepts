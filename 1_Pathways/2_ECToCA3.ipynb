{
 "cells": [
  {
   "cell_type": "code",
   "execution_count": 1,
   "id": "c996cc0a",
   "metadata": {},
   "outputs": [],
   "source": [
    "import torch\n",
    "\n",
    "import os, sys\n",
    "import ipynbname\n",
    "import time\n",
    "from glob import glob\n",
    "import itertools\n",
    "import pprint\n",
    "pp = pprint.PrettyPrinter()\n",
    "\n",
    "import numpy as np\n",
    "from scipy.sparse import csr_matrix\n",
    "import matplotlib.pyplot as plt\n",
    "import h5py"
   ]
  },
  {
   "cell_type": "code",
   "execution_count": 2,
   "id": "6b7e303b",
   "metadata": {},
   "outputs": [
    {
     "name": "stdout",
     "output_type": "stream",
     "text": [
      "Using cuda device\n"
     ]
    }
   ],
   "source": [
    "device = \"cuda\" if torch.cuda.is_available() else \"cpu\"\n",
    "print(f\"Using {device} device\")"
   ]
  },
  {
   "cell_type": "code",
   "execution_count": 3,
   "id": "bf390b6c",
   "metadata": {},
   "outputs": [],
   "source": [
    "# Timing utilities\n",
    "start_time = None\n",
    "\n",
    "def start_timer():\n",
    "    global start_time\n",
    "    torch.cuda.synchronize()\n",
    "    start_time = time.time()\n",
    "\n",
    "def end_timer_and_print():\n",
    "    torch.cuda.synchronize()\n",
    "    end_time = time.time()\n",
    "    print(\"\\nTotal execution time {:.3f} sec\".format(end_time - start_time))"
   ]
  },
  {
   "cell_type": "markdown",
   "id": "0af8ea58",
   "metadata": {},
   "source": [
    "## Loading Data"
   ]
  },
  {
   "cell_type": "code",
   "execution_count": 4,
   "id": "59394b33-a309-4d48-a351-6d77bb51ade9",
   "metadata": {},
   "outputs": [],
   "source": [
    "data_h5 = {os.path.basename(file).split('_features.h5')[0]: h5py.File(file, 'r')\n",
    "           for file in glob('data/*_features.h5')}"
   ]
  },
  {
   "cell_type": "code",
   "execution_count": 5,
   "id": "c560c3e1-7e4d-4576-adea-c75b67e6c161",
   "metadata": {},
   "outputs": [],
   "source": [
    "EC_patterns = {model: [np.array(data[dataset]) for dataset in data.keys()]\n",
    "               for model, data in data_h5.items()}"
   ]
  },
  {
   "cell_type": "code",
   "execution_count": 6,
   "id": "e8e5a605-0dfb-4908-8339-65c10fc206e2",
   "metadata": {},
   "outputs": [],
   "source": [
    "def map_data(dictionary, fn, *args, **kwargs):\n",
    "    return {model: [fn(items, *args, **kwargs) for items in data] \n",
    "               for model, data in dictionary.items()}"
   ]
  },
  {
   "cell_type": "markdown",
   "id": "1b057483-e21e-47ba-a7af-970e957d4dac",
   "metadata": {},
   "source": [
    "## Feedforward Propagation"
   ]
  },
  {
   "cell_type": "markdown",
   "id": "439d137d-0327-483b-90ef-c9c4c01aee8f",
   "metadata": {},
   "source": [
    "Mouse cell counts per hemisphere from https://doi.org/10.1007/s00429-019-01940-7\n",
    "- MEC LII: 66,365\n",
    "\n",
    "Mouse cell counts per hemisphere from https://www.nature.com/articles/s41593-018-0109-1\n",
    "- DG gr: 625,000\n",
    "- CA3 pyr: 285,000\n",
    "\n",
    "Rat cell counts per hemisphere from https://www.sciencedirect.com/science/article/pii/S0079612308612376?via%3Dihub\n",
    "- MEC LII: 200,000\n",
    "- DG gr: 1,000,000\n",
    "- CA3 pyr: 330,000\n",
    "\n",
    "Rat connectivity from https://www.sciencedirect.com/science/article/pii/S0079612308612376?via%3Dihub\n",
    "- Each CA3 neuron receives 46 inputs from DG\n",
    "- Each EC neuron sends output to 2% of DG\n",
    "- Each DG neuron receives input from 1.4-2.2% of EC (3600 neurons)\n",
    "- Each CA3 neuron receives 3600 inputs from EC\n",
    "\n",
    "Rat activity from https://www.frontiersin.org/articles/10.3389/fnins.2013.00050 \n",
    "- DG sparseness: 1-2% in an environment\n",
    "\n",
    "Rat activity from https://www.jneurosci.org/content/28/52/14271\n",
    "- CA3 sparseness: 30% in an environment\n",
    "\n",
    "Rat activity from https://onlinelibrary.wiley.com/doi/abs/10.1002/hipo.22002\n",
    "- CA3 firing rate: 0.4 Hz\n",
    "\n",
    "Rat activity from https://www.frontiersin.org/articles/10.3389/fncir.2014.00074/full\n",
    "- EC LII sparsity: 95% in an environment\n",
    "\n",
    "Rat activity from https://www.cell.com/cell-reports/fulltext/S2211-1247(13)00401-4\n",
    "- EC LII firing rate: 1 Hz\n",
    "- DG firing rate: 0.1 Hz\n",
    "- CA3 firing rate: 0.3 Hz\n",
    "\n",
    "See https://journals.plos.org/ploscompbiol/article?id=10.1371/journal.pcbi.1004250"
   ]
  },
  {
   "cell_type": "code",
   "execution_count": 22,
   "id": "02eacec5",
   "metadata": {
    "tags": []
   },
   "outputs": [
    {
     "name": "stdout",
     "output_type": "stream",
     "text": [
      "Number of neurons\n",
      "EC: 1024,  DG: 8192,  CA3: 2048\n"
     ]
    }
   ],
   "source": [
    "EC_size = list(EC_patterns.values())[0][0].shape[1]\n",
    "DG_size = EC_size * 8\n",
    "CA3_size = EC_size * 2\n",
    "\n",
    "print(f\"Number of neurons\")\n",
    "print(f\"EC: {EC_size},  DG: {DG_size},  CA3: {CA3_size}\")"
   ]
  },
  {
   "cell_type": "code",
   "execution_count": 23,
   "id": "247769e2-de27-45c0-81ac-7f977a281439",
   "metadata": {},
   "outputs": [
    {
     "name": "stdout",
     "output_type": "stream",
     "text": [
      "Number of inputs per postsynaptic neuron\n",
      "DG: 205,  PP: 205,  MF: 8\n"
     ]
    }
   ],
   "source": [
    "DG_conn = 0.2\n",
    "PP_conn = 0.2\n",
    "MF_conn = 0.001\n",
    "\n",
    "DG_per_post = round(DG_conn * EC_size)\n",
    "PP_per_post = round(PP_conn * EC_size)\n",
    "MF_per_post = round(MF_conn * DG_size)\n",
    "\n",
    "print(f\"Number of inputs per postsynaptic neuron\")\n",
    "print(f\"DG: {DG_per_post},  PP: {PP_per_post},  MF: {MF_per_post}\")"
   ]
  },
  {
   "cell_type": "code",
   "execution_count": 24,
   "id": "f2f37483-0994-423b-82ff-1c6317e75138",
   "metadata": {},
   "outputs": [
    {
     "name": "stdout",
     "output_type": "stream",
     "text": [
      "Number of active neurons\n",
      "DG: 41,  PP: 410,  MF: 41\n"
     ]
    }
   ],
   "source": [
    "DG_sp = 0.005\n",
    "PP_sp = 0.2\n",
    "MF_sp = 0.02\n",
    "\n",
    "DG_active = round(DG_sp * DG_size)\n",
    "PP_active = round(PP_sp * CA3_size)\n",
    "MF_active = round(MF_sp * CA3_size)\n",
    "\n",
    "print(f\"Number of active neurons\")\n",
    "print(f\"DG: {DG_active},  PP: {PP_active},  MF: {MF_active}\")"
   ]
  },
  {
   "cell_type": "code",
   "execution_count": 25,
   "id": "06016a63-27d0-4a75-abdc-c115ff5dc81d",
   "metadata": {},
   "outputs": [],
   "source": [
    "def create_synapses(pre_size, post_size, inputs_per_post):\n",
    "    data = np.ones(post_size * inputs_per_post, dtype=int)\n",
    "    indices = np.concatenate([np.random.choice(pre_size, inputs_per_post, replace=False)\n",
    "                              for _ in range(post_size)])\n",
    "    indptr = np.arange(post_size+1) * inputs_per_post\n",
    "    return csr_matrix((data, indices, indptr), shape=(post_size, pre_size))"
   ]
  },
  {
   "cell_type": "code",
   "execution_count": 26,
   "id": "38b0e84b-b1a0-48eb-ad1e-11c736416fa4",
   "metadata": {},
   "outputs": [],
   "source": [
    "DG_synapses = create_synapses(EC_size, DG_size, DG_per_post)\n",
    "PP_synapses = create_synapses(EC_size, CA3_size, PP_per_post)\n",
    "MF_synapses = create_synapses(DG_size, CA3_size, MF_per_post)"
   ]
  },
  {
   "cell_type": "code",
   "execution_count": 27,
   "id": "0c047c6f-08b7-43c5-bf48-58b52b2eab5a",
   "metadata": {},
   "outputs": [],
   "source": [
    "def kWTA(inputs, k):\n",
    "    tiebreaker = np.random.rand(inputs.size)\n",
    "    inds = np.lexsort((tiebreaker, inputs))\n",
    "    output = np.zeros_like(inputs)\n",
    "    np.put(output, inds[-k:], 1)\n",
    "    return output\n",
    "\n",
    "def feedforward_WTA(pre_patterns, synapses, post_active):\n",
    "    post_inputs = synapses.dot(pre_patterns.T).T\n",
    "    return np.apply_along_axis(kWTA, 1, post_inputs, k=post_active)"
   ]
  },
  {
   "cell_type": "code",
   "execution_count": 28,
   "id": "3368ce5d-493e-44b3-bfe0-bd3c2dbce647",
   "metadata": {},
   "outputs": [],
   "source": [
    "DG_patterns = map_data(EC_patterns, feedforward_WTA, DG_synapses, DG_active)"
   ]
  },
  {
   "cell_type": "code",
   "execution_count": 29,
   "id": "392a951e-809d-41a7-9ae3-e67729be01c4",
   "metadata": {},
   "outputs": [],
   "source": [
    "PP_patterns = map_data(EC_patterns, feedforward_WTA, PP_synapses, PP_active)"
   ]
  },
  {
   "cell_type": "code",
   "execution_count": 30,
   "id": "039f0364-04c9-4c4e-b242-ee34fe0b047d",
   "metadata": {},
   "outputs": [],
   "source": [
    "MF_patterns = map_data(DG_patterns, feedforward_WTA, MF_synapses, MF_active)"
   ]
  },
  {
   "cell_type": "markdown",
   "id": "e018e21f-e855-40cc-90d7-95a45a08865d",
   "metadata": {},
   "source": [
    "## Pattern statistics"
   ]
  },
  {
   "cell_type": "code",
   "execution_count": 31,
   "id": "ed8e74b1-94e0-4cfb-88bd-35f6c946da69",
   "metadata": {},
   "outputs": [
    {
     "name": "stdout",
     "output_type": "stream",
     "text": [
      "EC sparsity:\n",
      "{'conv-fashion': [0.13570785522460938,\n",
      "                  0.12564468383789062,\n",
      "                  0.13354873657226562],\n",
      " 'linear-MNIST2': [0.10077285766601562, 0.08830642700195312, 0.103302001953125],\n",
      " 'linear-fashion': [0.092010498046875,\n",
      "                    0.09688186645507812,\n",
      "                    0.09177398681640625]}\n",
      "DG sparsity:\n",
      "{'conv-fashion': [0.0050048828125, 0.0050048828125, 0.0050048828125],\n",
      " 'linear-MNIST2': [0.0050048828125, 0.0050048828125, 0.0050048828125],\n",
      " 'linear-fashion': [0.0050048828125, 0.0050048828125, 0.0050048828125]}\n",
      "MF sparsity:\n",
      "{'conv-fashion': [0.02001953125, 0.02001953125, 0.02001953125],\n",
      " 'linear-MNIST2': [0.02001953125, 0.02001953125, 0.02001953125],\n",
      " 'linear-fashion': [0.02001953125, 0.02001953125, 0.02001953125]}\n",
      "PP sparsity:\n",
      "{'conv-fashion': [0.2001953125, 0.2001953125, 0.2001953125],\n",
      " 'linear-MNIST2': [0.2001953125, 0.2001953125, 0.2001953125],\n",
      " 'linear-fashion': [0.2001953125, 0.2001953125, 0.2001953125]}\n"
     ]
    }
   ],
   "source": [
    "print(\"EC sparsity:\")\n",
    "pp.pprint(map_data(EC_patterns, np.mean))\n",
    "print(\"DG sparsity:\")\n",
    "pp.pprint(map_data(DG_patterns, np.mean))\n",
    "print(\"MF sparsity:\")\n",
    "pp.pprint(map_data(MF_patterns, np.mean))\n",
    "print(\"PP sparsity:\")\n",
    "pp.pprint(map_data(PP_patterns, np.mean))"
   ]
  },
  {
   "cell_type": "code",
   "execution_count": 32,
   "id": "49063be7-fe5f-4242-8486-92228d7cbcf2",
   "metadata": {},
   "outputs": [],
   "source": [
    "# def pearson_correlation(x, y):\n",
    "#     if x.shape != y.shape:\n",
    "#         raise Exception(\"Arguments must have same shape\")\n",
    "#     x_centered = x - x.mean(-1, keepdims=True)\n",
    "#     y_centered = y - y.mean(-1, keepdims=True)\n",
    "    \n",
    "#     return ( np.sum(x_centered * y_centered, -1)\n",
    "#              / np.sqrt(np.sum(x_centered**2, -1) * np.sum(y_centered**2, -1)) )\n",
    "\n",
    "# def pairwise_correlation(array_of_vectors):\n",
    "#     if array_of_vectors.ndim != 2:\n",
    "#         raise Exception(\"Argument must be a 2D tensor\")\n",
    "#     array_of_vectors = array_of_vectors.astype('float')\n",
    "#     inds_of_pairs = np.array(list(\n",
    "#         itertools.combinations(range(len(array_of_vectors)), 2)\n",
    "#     )).T\n",
    "#     first_vectors = np.take(array_of_vectors, inds_of_pairs[0], 0)\n",
    "#     second_vectors = np.take(array_of_vectors, inds_of_pairs[1], 0)\n",
    "    \n",
    "#     correlations = pearson_correlation(first_vectors, second_vectors)\n",
    "#     return correlations.mean()\n",
    "\n",
    "def pearson_correlation(x, y):\n",
    "    if x.shape != y.shape:\n",
    "        raise Exception(\"Arguments must have same shape\")\n",
    "    x_centered = x - x.mean(-1, keepdim=True)\n",
    "    y_centered = y - y.mean(-1, keepdim=True)\n",
    "    \n",
    "    return ( torch.sum(x_centered * y_centered, -1)\n",
    "             * torch.rsqrt(torch.sum(x_centered**2, -1) * torch.sum(y_centered**2, -1)) )\n",
    "\n",
    "def pairwise_correlation(array_of_vectors):\n",
    "    if array_of_vectors.ndim != 2:\n",
    "        raise Exception(\"Argument must be a 2D tensor\")\n",
    "    tensor_of_vectors = torch.tensor(array_of_vectors, dtype=torch.float, device=device)\n",
    "    inds_of_pairs = torch.combinations(torch.arange(len(tensor_of_vectors)).T\n",
    "    inds_of_pairs = inds_of_pairs.to(device)\n",
    "    first_vectors = tensor_of_vectors.index_select(0, inds_of_pairs[0])\n",
    "    second_vectors = tensor_of_vectors.index_select(0, inds_of_pairs[1])\n",
    "    \n",
    "    correlations = pearson_correlation(first_vectors, second_vectors)\n",
    "    return correlations.mean().item()"
   ]
  },
  {
   "cell_type": "code",
   "execution_count": 33,
   "id": "9c728ad9-daca-4992-8385-713ae2c07629",
   "metadata": {},
   "outputs": [
    {
     "name": "stdout",
     "output_type": "stream",
     "text": [
      "EC correlation:\n",
      "{'conv-fashion': [0.10083414614200592,\n",
      "                  0.11498461663722992,\n",
      "                  0.12594027817249298],\n",
      " 'linear-MNIST2': [0.17476320266723633,\n",
      "                   0.2764626443386078,\n",
      "                   0.11416282504796982],\n",
      " 'linear-fashion': [0.1176111176609993,\n",
      "                    0.11730506271123886,\n",
      "                    0.21472689509391785]}\n",
      "DG correlation:\n",
      "{'conv-fashion': [0.010395663790404797,\n",
      "                  0.012289708480238914,\n",
      "                  0.01228069607168436],\n",
      " 'linear-MNIST2': [0.018960921093821526,\n",
      "                   0.064083032310009,\n",
      "                   0.010714842937886715],\n",
      " 'linear-fashion': [0.01964433863759041,\n",
      "                    0.015757117420434952,\n",
      "                    0.0328921340405941]}\n",
      "MF correlation:\n",
      "{'conv-fashion': [0.005485582631081343,\n",
      "                  0.00575856352224946,\n",
      "                  0.006026206072419882],\n",
      " 'linear-MNIST2': [0.010390844196081161,\n",
      "                   0.03013770282268524,\n",
      "                   0.0059080165810883045],\n",
      " 'linear-fashion': [0.009399574249982834,\n",
      "                    0.00787988118827343,\n",
      "                    0.016472667455673218]}\n",
      "PP correlation:\n",
      "{'conv-fashion': [0.05539542809128761, 0.0619380883872509, 0.06737817823886871],\n",
      " 'linear-MNIST2': [0.09811475872993469,\n",
      "                   0.17373158037662506,\n",
      "                   0.06315349787473679],\n",
      " 'linear-fashion': [0.06802152842283249,\n",
      "                    0.06394391506910324,\n",
      "                    0.12343235313892365]}\n"
     ]
    }
   ],
   "source": [
    "print(\"EC correlation:\")\n",
    "pp.pprint(map_data(EC_patterns, pairwise_correlation))\n",
    "print(\"DG correlation:\")\n",
    "pp.pprint(map_data(DG_patterns, pairwise_correlation))\n",
    "print(\"MF correlation:\")\n",
    "pp.pprint(map_data(MF_patterns, pairwise_correlation))\n",
    "print(\"PP correlation:\")\n",
    "pp.pprint(map_data(PP_patterns, pairwise_correlation))"
   ]
  },
  {
   "cell_type": "code",
   "execution_count": 85,
   "id": "16586b70-ba2a-48fc-9867-e7014ebd0239",
   "metadata": {},
   "outputs": [
    {
     "name": "stdout",
     "output_type": "stream",
     "text": [
      "{'conv-fashion': [array([0, 0, 0, ..., 0, 0, 0]),\n",
      "                  array([0, 0, 0, ..., 0, 1, 0]),\n",
      "                  array([0, 1, 0, ..., 0, 0, 0])],\n",
      " 'linear-MNIST2': [array([0, 0, 0, ..., 0, 1, 0]),\n",
      "                   array([0, 0, 0, ..., 0, 0, 0]),\n",
      "                   array([1, 0, 0, ..., 0, 0, 0])],\n",
      " 'linear-fashion': [array([0, 0, 0, ..., 0, 1, 1]),\n",
      "                    array([0, 0, 0, ..., 0, 1, 0]),\n",
      "                    array([0, 0, 1, ..., 0, 0, 0])]}\n"
     ]
    }
   ],
   "source": [
    "def category_WTA(patterns, num_active):\n",
    "    return kWTA(patterns.sum(0), k=num_active)\n",
    "\n",
    "cat_patterns = map_data(PP_patterns, category_WTA, PP_active)\n",
    "pp.pprint(cat_patterns)"
   ]
  },
  {
   "cell_type": "code",
   "execution_count": 86,
   "id": "a473896e-d380-4138-ab1d-9ea19848cfde",
   "metadata": {},
   "outputs": [
    {
     "name": "stdout",
     "output_type": "stream",
     "text": [
      "cat sparsity:\n",
      "{'conv-fashion': [0.2001953125, 0.2001953125, 0.2001953125],\n",
      " 'linear-MNIST2': [0.2001953125, 0.2001953125, 0.2001953125],\n",
      " 'linear-fashion': [0.2001953125, 0.2001953125, 0.2001953125]}\n"
     ]
    }
   ],
   "source": [
    "print(\"cat sparsity:\")\n",
    "pp.pprint(map_data(cat_patterns, np.mean))"
   ]
  },
  {
   "cell_type": "code",
   "execution_count": 87,
   "id": "7206b065-9478-464a-837b-9329f713616c",
   "metadata": {},
   "outputs": [],
   "source": [
    "def save_patterns_hdf5(pattern_dict, pattern_type):\n",
    "    for model in EC_patterns.keys():\n",
    "        h5file = h5py.File(f'results/{model}_{pattern_type}.h5', 'w')\n",
    "        for i, patterns in enumerate(pattern_dict[model]):\n",
    "            h5name = f'class_{i}'\n",
    "            h5data = patterns.astype(np.int8)\n",
    "            h5dataset = h5file.create_dataset(h5name, data=h5data, compression='gzip')\n",
    "            print(h5dataset)\n",
    "        h5file.close()"
   ]
  },
  {
   "cell_type": "code",
   "execution_count": 63,
   "id": "b9dac0c5-f300-4dc8-9b71-838ae604b471",
   "metadata": {},
   "outputs": [
    {
     "name": "stdout",
     "output_type": "stream",
     "text": [
      "<HDF5 dataset \"class_0\": shape (256, 2048), type \"|i1\">\n",
      "<HDF5 dataset \"class_1\": shape (256, 2048), type \"|i1\">\n",
      "<HDF5 dataset \"class_2\": shape (256, 2048), type \"|i1\">\n",
      "<HDF5 dataset \"class_0\": shape (256, 2048), type \"|i1\">\n",
      "<HDF5 dataset \"class_1\": shape (256, 2048), type \"|i1\">\n",
      "<HDF5 dataset \"class_2\": shape (256, 2048), type \"|i1\">\n",
      "<HDF5 dataset \"class_0\": shape (256, 2048), type \"|i1\">\n",
      "<HDF5 dataset \"class_1\": shape (256, 2048), type \"|i1\">\n",
      "<HDF5 dataset \"class_2\": shape (256, 2048), type \"|i1\">\n"
     ]
    }
   ],
   "source": [
    "save_patterns_hdf5(MF_patterns, 'sparse')"
   ]
  },
  {
   "cell_type": "code",
   "execution_count": 64,
   "id": "0e965f6e-c9bb-4bc3-aa55-e3dbda65962a",
   "metadata": {},
   "outputs": [
    {
     "name": "stdout",
     "output_type": "stream",
     "text": [
      "<HDF5 dataset \"class_0\": shape (256, 2048), type \"|i1\">\n",
      "<HDF5 dataset \"class_1\": shape (256, 2048), type \"|i1\">\n",
      "<HDF5 dataset \"class_2\": shape (256, 2048), type \"|i1\">\n",
      "<HDF5 dataset \"class_0\": shape (256, 2048), type \"|i1\">\n",
      "<HDF5 dataset \"class_1\": shape (256, 2048), type \"|i1\">\n",
      "<HDF5 dataset \"class_2\": shape (256, 2048), type \"|i1\">\n",
      "<HDF5 dataset \"class_0\": shape (256, 2048), type \"|i1\">\n",
      "<HDF5 dataset \"class_1\": shape (256, 2048), type \"|i1\">\n",
      "<HDF5 dataset \"class_2\": shape (256, 2048), type \"|i1\">\n"
     ]
    }
   ],
   "source": [
    "save_patterns_hdf5(PP_patterns, 'dense')"
   ]
  },
  {
   "cell_type": "code",
   "execution_count": 88,
   "id": "c0e79a8b-0263-465b-8223-63f4dc8ffc4a",
   "metadata": {},
   "outputs": [
    {
     "name": "stdout",
     "output_type": "stream",
     "text": [
      "<HDF5 dataset \"class_0\": shape (2048,), type \"|i1\">\n",
      "<HDF5 dataset \"class_1\": shape (2048,), type \"|i1\">\n",
      "<HDF5 dataset \"class_2\": shape (2048,), type \"|i1\">\n",
      "<HDF5 dataset \"class_0\": shape (2048,), type \"|i1\">\n",
      "<HDF5 dataset \"class_1\": shape (2048,), type \"|i1\">\n",
      "<HDF5 dataset \"class_2\": shape (2048,), type \"|i1\">\n",
      "<HDF5 dataset \"class_0\": shape (2048,), type \"|i1\">\n",
      "<HDF5 dataset \"class_1\": shape (2048,), type \"|i1\">\n",
      "<HDF5 dataset \"class_2\": shape (2048,), type \"|i1\">\n"
     ]
    }
   ],
   "source": [
    "save_patterns_hdf5(cat_patterns, 'cat')"
   ]
  },
  {
   "cell_type": "code",
   "execution_count": 89,
   "id": "303ca89a-dab0-40e6-9c18-c8209d8f8b25",
   "metadata": {},
   "outputs": [],
   "source": [
    "def save_patterns_binary(pattern_dict, pattern_type):\n",
    "    for model in EC_patterns.keys():\n",
    "        binfile = open(f'results/{model}_{pattern_type}.dat', 'w')\n",
    "        for patterns in pattern_dict[model]:\n",
    "            bindata = np.packbits(patterns)\n",
    "            bindata.tofile(binfile)\n",
    "            print(bindata)\n",
    "        binfile.close()"
   ]
  },
  {
   "cell_type": "code",
   "execution_count": 78,
   "id": "d9b115e9-154a-4ed7-bc39-42aeeccba6c8",
   "metadata": {},
   "outputs": [
    {
     "name": "stdout",
     "output_type": "stream",
     "text": [
      "[0 0 0 ... 0 0 0]\n",
      "[ 0  0  0 ...  0  0 64]\n",
      "[ 0 12  0 ...  0  0  0]\n",
      "[ 0  0  0 ...  0  0 16]\n",
      "[0 0 0 ... 0 0 0]\n",
      "[0 0 0 ... 0 0 0]\n",
      "[0 0 0 ... 0 0 0]\n",
      "[ 0  1 32 ...  0  0  0]\n",
      "[0 0 0 ... 0 0 0]\n"
     ]
    }
   ],
   "source": [
    "save_patterns_binary(MF_patterns, 'sparse')"
   ]
  },
  {
   "cell_type": "code",
   "execution_count": 79,
   "id": "a7b33277-3fc2-45bf-b884-e6c45bac784b",
   "metadata": {},
   "outputs": [
    {
     "name": "stdout",
     "output_type": "stream",
     "text": [
      "[ 0  8 33 ...  0  6  0]\n",
      "[  0  64  16 ... 128  16 130]\n",
      "[ 72  77  64 ...   5 130  16]\n",
      "[ 8  0 32 ... 80 32  0]\n",
      "[ 16 194  72 ...   2  69 139]\n",
      "[ 64  96   1 ...  32 139  66]\n",
      "[  0  64 136 ...   0   0   0]\n",
      "[16 28  4 ...  2  8 32]\n",
      "[  2 136   1 ...   0  64 138]\n"
     ]
    }
   ],
   "source": [
    "save_patterns_binary(PP_patterns, 'dense')"
   ]
  },
  {
   "cell_type": "code",
   "execution_count": 90,
   "id": "a39cf211-2229-43be-9bdf-ad0ce7bcb399",
   "metadata": {},
   "outputs": [
    {
     "name": "stdout",
     "output_type": "stream",
     "text": [
      "[  4  41  32  16 172   0  33  98  17 132 130  34  32   0   0 129 150  32\n",
      "  33  36  36 176   1 210  64   0  68  36  17   2  64  45  96  64  54   1\n",
      "  38  16   2  36   0  18 228   8   6   8  20 130 198 128  21  26 128  74\n",
      "   4   0   0 132 128 185   4   0 210  29 208  64   0   0   1   6  12   0\n",
      "   1 128  17  22  18   4  32  17 156 113 129 176  26  15   0   2   0  68\n",
      "  64  64 128   0 152 144 144   2 138   0   4  16  32   4   9   8 131  33\n",
      "  16   4  14   3 128   0 104  96   2   4  26  68   6   1   1   1  15  18\n",
      "  26  64 131  65   0  32   0   1   9  20  73  40  64   3   0   0 192  83\n",
      "  64  16  40   0 128  29  40   0  64  13  33   0   8  66  24  16   0  34\n",
      "  64  72  40  41  24  84  66   0   4   0  32   1   0 162   0  26 128 130\n",
      "   0   2   0  80   0   1  20  80 104   0  96   0   1  16  16   2   2 164\n",
      "   0   0  99 192  36  33   0   0  96  16   8 140   0  52   4 131   0   0\n",
      "  35   0   0 224  64  64  32   1 138  64   0   4   4 156   0   4  16  65\n",
      "   0  16   1  74  96   4 133  72   0   2  17   0 144  69  80  74 138  52\n",
      "  35   3  32   0]\n",
      "[ 18   4  24  48 144  32 220  40  32  17   1 134 144  64   0  66  32  36\n",
      "   6   4   2  64  50 129  16  80   8  16   0 192  32  64  32  64  12   2\n",
      "   8   4  16   8  49 132  80   6 196   0   1   0  35  25 138   3   4  34\n",
      "   0  20   8  72  17   4  24 208   8   9  36   3   1  64 177 193 160   0\n",
      "   1  16  66  65   9  72   8  36   1 168   0  64   1   0   0  17 144  37\n",
      "   4   0   0  64   2   0  34  15 130  52  20   8   8  49  16  64  16   2\n",
      "  24  80 128   0  20   0   4  54 130  80 100   0 144  16  64   0  16  16\n",
      "   0 128 132  22   2   4   4   8  64  56 100  84  49   4 137  72  24   4\n",
      "  84 192  72   0 228  96  35 128 144   0  16  16   0   0   0   4 118   8\n",
      "   8   6   4  98  34  32  64  72 208 128   8 129  32   0   0  71 128 138\n",
      "  96   0 136 128   0   2  27  32  64 136   2  34  48   4   3  98   0  64\n",
      "  34  32  16  20  80  36  64   0 192   0  33   1   0 164  73  65  85 119\n",
      "   1   8   0  76  17   0  17   2 196  36  16 104 145  16 154  40  67 160\n",
      "   0  82   8   1 138   2   4   4  84  37   0   1   3 144   0  39   0 128\n",
      "   0  80 208   2]\n",
      "[ 72  25   4  68   0  64   2   1  11   4 112   0  86   1   5  80   4   8\n",
      " 128  65 129   7  20   8 144  36   2 128   2  64 148  64 138  34  17  18\n",
      "  16 128   0   1   0   8   0  80  41 128   4  64  64  64  32   1   8   5\n",
      "  35  66 144  68  67 130 128   8  16   0 128   4  20 136 128   0   6  69\n",
      "  36  17  13  64  66  24  70 130   0  20  37  16   0   2   0  60  32   9\n",
      "   8   8  49 131   4 128   0 104  16  78 145  68   5   4  10  48 132   0\n",
      " 172  64  64   0   0   2 131  64  64  32  12 136   0 132  54  36  72   0\n",
      "  33   2   0 132  77   9 136  64 224 194 129  33   8  64   0   2 128   8\n",
      " 160  33   4 100   0 192  80 196   0   0 138 128  64  13  97 139   0   2\n",
      "   4   2  64   4  80   0  13   1  34  68   6   2 194  66   5   0  51  36\n",
      " 138 178  11   0  10  88 225   4   0  48 137   0 130  10 138  12 144   8\n",
      "  65   0   0  32  12  16  12 193   1  16   0   2  12   0   0  16   0   8\n",
      "  68   4   3   0  72 144   8  92   1  16   2  17  32   0  67 202  36   0\n",
      "  32  40  34  16 148 177 152 144 201 144   2   2   8   0 160   0   4   0\n",
      " 146   4  72  64]\n",
      "[  8   4 200 144   0   1  56   0  68   0   0   8   0  10   1 136   0  24\n",
      "  22  40 112  16  20   1   0   6  64 140   7   0  82 128  68  80  72  38\n",
      " 113  65  64  32 144  72   0 160  18  34 150  98 129  18  10 128 128 250\n",
      " 200 144  64  34   4  26   8  99  17 160   0 128   4   0   0 132   4  19\n",
      "   0 128   2  66   1  38  96  66   0 118 176 128  36   0  48   0   0  96\n",
      "   6  66  32 123   8 212  72   0   0   1   0 129  24  36  16 129   0   0\n",
      "  48   1   9   0   0 160  96   0   1  25  28   0  17   0  19   2   0  64\n",
      "   0   0  32 129   0  16  32   0  64 148 129  16 144 129   0 132   0  64\n",
      " 136   0   0   4   4   6  40  29   5   0  80  72  20   0  12   0   2   2\n",
      "  17   8   4 232   8  81 130 200  19   2  64  18 130   8  50   0  36  96\n",
      "  64   2   1   0  32   0 129   2   8 128   0 133  17  19  18   2   9  32\n",
      " 128 128  68  37   8  32   0   8 148   4   5  26  17   3  64 160 146  64\n",
      " 192  32 150 194 134 176   8  64   8  18   0   8  21  18  54  18   0  32\n",
      " 148  16 155  42  48  11   0   4  32  17  44  67   8 129  70  52  32  32\n",
      "  32  68  64  35]\n",
      "[  0   5 176   2   0 128  36 168 128   1  30 218  24   9   4  64  34 128\n",
      "   0  10   2 111  68  33  96   0   4  64  72   1  36   8  16   8 152   8\n",
      "  40  82  17  68 163 129   1 144  65  16  24  32  96  32   0   0   0   0\n",
      "  44   5  34   0   8  16  98   5   4  32 204   5   2 100  24 129   0  64\n",
      "  64  68  52   0   8 192   2 184  76   0 128   6  38  34   0 136 144 128\n",
      "  54 240 130   8  32   8 128   1  10   2 164   8  12 128 144   8 197 192\n",
      "   2   0  64  10   4  64  65 133  35   0 128   0  36   0 147  86   0  16\n",
      "   0   0  24   9  65   0  17   4 128 193  40  32   4   0   2   0 128   0\n",
      " 131  16   2 192  32 192  32  18   6 245   0   8 160  16 128  72   1 136\n",
      "  73  12  64   0 128   0 193  16  48  20  52 135  32   2   0  68  64  18\n",
      " 208 139 187  64  24   4  41   0   1  14   4 130  16  76  67   0  13 128\n",
      " 129 162 160   2  48   8 196   0   8  32  74   0   3   5   0  80   0 144\n",
      " 128  64  32 160   4   8  16  36   1  25   2   0   2 128 152   1   2 129\n",
      " 192 152  18 128  13   0   0 128   8   0  16  20  16  26 144   8 100   0\n",
      "   8   8   5  26]\n",
      "[ 34  32   4   1  20  80 200   5  25 227   1   0   4 128  16  35   8   5\n",
      "  48  48 130   8  32  66  69   8   0   8 160  42 136  35 128 128   0  16\n",
      "  70  20  36   1  32  32   2  40 132   4 192   0  18   1 160 169   1   0\n",
      "   2 160  76 144 208  32   3 224  24   4  83   0  32  16 201  48   0  12\n",
      " 136  18   0   1 150 225  12   5  24  32   0  13   1  52   0  64  36   2\n",
      "   1  13   0 133  80   0  66  16 128   0   0  64   0   8   0   0  64   9\n",
      "   4  20   0   0   0   8  17   2 144   1   0  74   2 136  64   1 105  27\n",
      " 164  32 196 196 178  64   0  32   2  44  64  73   4 136  13  50  48   4\n",
      "  16 129  33   0  24  42  88  12 144  40 132   1   8   8  35   0 130  22\n",
      "   8   1   1  64   4  25  64   0 128  64   8  64   0   5 128 129 128 162\n",
      "  36   1  64  24  36   0   2  34   2  81 194   0  64   0   4   0   0   4\n",
      "  98   4 136 228   2   4   8 144   2 137  16  68 188  72  16  54  65  32\n",
      "  37  28   9   5   0   2  41  48  20   4   4   6 168  21   1 161 129   0\n",
      "   0   4 128  80   1   2   4   2  80  40  65   4 130  64   1  71  16   1\n",
      "   6   0  11  64]\n",
      "[  4  64  48   0 132   2   1   0  32  10   1   2  21 156   1   0  72  76\n",
      "   5   0   1   0   2 161  16   4  64  84  72  16  51   5   4  84   8 144\n",
      "  48   2  67 130   4  44   6 129   0   0  24 136  16  74  68   8 138  83\n",
      "  68   1 152  21   6  24   2  41   5  72  64 136  64  56  64   8   1  13\n",
      "   8 142  32  32  32   4  80  48   4  80 153   0  48 128   0   1 133   3\n",
      "   8 136 128 129  32   5  16  32  36   5   4   8  32 138 224   0  96   1\n",
      "  72   4  88  81  20  10 128 128  80   1  32  24 132   4   0  20 128  74\n",
      " 142  69   4  35   0 164  64   0   2   0  64   4   1   1  67  24 128   2\n",
      "  16  16   1 200 129  32 162   4 212   0  32  64   0 193   8  16   0   0\n",
      "  13  96 162  10  32 138 178  16  64   1   2 112  64  32 137 160   9  16\n",
      "   1   0   1   2 128  38  33   2   0  33 146   0   4 129   1   0  16  34\n",
      "  66   4 128   0 192  32  64 104  33  27 155   0   1 128  49 192  17 161\n",
      "  64 131  12  16  66  24  10  36   2  24  68   8 138  56  32   2  24   8\n",
      "  16   0 146   3   6   0   0   0   0   7   4   0   1   0   4 192  28  43\n",
      "  64   8   0  66]\n",
      "[  0  16  44   0  38  13   0  32  40 100  12   5  38   8   5 128   1  64\n",
      " 198  64  17   8   0  32   0  32  96  36 202  21   0   0   5  24   2 209\n",
      "  32   8  67 132   0   0  48  72   0  64  25   0  97 128 128   2  12 144\n",
      "   2 133   8   0 146 130   0  34   0   0 128  20  12   8   0 128   6  77\n",
      "   0  24   8   0  48   0   0   0  98   4   8  64  16   8   0  68 118   9\n",
      "  32 160   0   0 128   2   6  34 169  36 156 131  33  16 112  17  36   2\n",
      "   2  20   0  80   4  32   0  41   0  21   4 224 128  36   0 130   2   6\n",
      " 129  87   8 132  10 128 137   2   8   0  10  16 132   1   0  21  33   0\n",
      "   0  17 144 161 192   0   0   2 128   1 196   0  81   0 128  65  21 136\n",
      "  36  64  16   1 136  34  48 162 131   2   0   4   8 136 201 136  81   4\n",
      "  64  72  16  60  66  80   1   0  26 162   2   0  32 161  64  12  16   0\n",
      "   4  71  40 145  72 128  36  16  96  24 128   2   2 132   2 168   8  32\n",
      "  10 160 146 128   0   2   0   0   0  18 128  42 154   6   0 145  73 129\n",
      "  81   5 192  17  76  23  72 153   5  72  96 132 136  16 224  33   8  18\n",
      "  64 128  33  32]\n",
      "[132   8  16  64  64   4  12   5 100   4   3   6  53  12  66   0 112  40\n",
      "  96 128  16 130   3  48   4   4 192  80   8 128  16 164   4  84   0  64\n",
      "   8   2  66  64   0  72  38 133   8 128  16 128  16   8   1   6   0  17\n",
      "   2   0  72  64  18  80   2  10  38 128  20  33 166  81  80  11 130   8\n",
      "  52   9   8  96   0  64   2   0  40  66  12  64  96 168  18  99   4   8\n",
      "   8 136  52 129 240  12  16   0   0  64   0  80  16  12  64   0 184 129\n",
      "  64 132  27   0   5   4   1  16   0   1   4  65   0   4  84  64  70   4\n",
      "  38   1   0  10   8   8  96 160  40   0 136   9   6  16  64  89   0   8\n",
      "  16  19   0 140 134   0 128  22 209   0 128   0   8  26  48   0  20  64\n",
      "   9  64   3   8   5 128  32   4 192   5   5  16   8  32  80 157  28   0\n",
      "   0  70   0 130   4   0 169   2   0  40   2 176   0 137   7   4  20  32\n",
      "  20  33  32  74  64 130  81  64 232  18 138   0  82   0  36   0 192   8\n",
      "  76 212   4   4   0  64  41  32  32  98   0  40  24   0  32   0  88 136\n",
      "  16   0 130  11 156  32 136 161  50   6 130  32  85  50 128  64   8   9\n",
      " 128 128   0   0]\n"
     ]
    }
   ],
   "source": [
    "save_patterns_binary(cat_patterns, 'cat')"
   ]
  },
  {
   "cell_type": "code",
   "execution_count": null,
   "id": "85b01899-02e3-4fb7-80ba-63412b90e613",
   "metadata": {},
   "outputs": [],
   "source": []
  }
 ],
 "metadata": {
  "kernelspec": {
   "display_name": "Python 3",
   "language": "python",
   "name": "python3"
  },
  "language_info": {
   "codemirror_mode": {
    "name": "ipython",
    "version": 3
   },
   "file_extension": ".py",
   "mimetype": "text/x-python",
   "name": "python",
   "nbconvert_exporter": "python",
   "pygments_lexer": "ipython3",
   "version": "3.9.2"
  }
 },
 "nbformat": 4,
 "nbformat_minor": 5
}
