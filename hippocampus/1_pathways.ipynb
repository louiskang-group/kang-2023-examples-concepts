{
 "cells": [
  {
   "cell_type": "markdown",
   "id": "a9150c98-b2e6-42bb-b5d8-962e7e92d5cf",
   "metadata": {},
   "source": [
    "# General setup"
   ]
  },
  {
   "cell_type": "code",
   "execution_count": 1,
   "id": "c996cc0a",
   "metadata": {},
   "outputs": [],
   "source": [
    "import os, sys\n",
    "import time\n",
    "import itertools\n",
    "\n",
    "import numpy as np\n",
    "from scipy.sparse import csr_matrix\n",
    "import matplotlib.pyplot as plt\n",
    "import h5py\n",
    "\n",
    "import torch\n",
    "from torch import nn\n",
    "import torch.nn.functional as F\n",
    "from torch.utils.data import Dataset, DataLoader, Subset\n",
    "from torchvision import datasets\n",
    "from torchvision.transforms import ToTensor"
   ]
  },
  {
   "cell_type": "code",
   "execution_count": 2,
   "id": "6b7e303b",
   "metadata": {},
   "outputs": [
    {
     "name": "stdout",
     "output_type": "stream",
     "text": [
      "Using cuda device\n"
     ]
    }
   ],
   "source": [
    "device = 'cuda' if torch.cuda.is_available() else 'cpu'\n",
    "print(f\"Using {device} device\")"
   ]
  },
  {
   "cell_type": "markdown",
   "id": "7eed2152-e9e0-4b07-9c7b-074b6ba0bff6",
   "metadata": {},
   "source": [
    "# Basic utilities"
   ]
  },
  {
   "cell_type": "code",
   "execution_count": 13,
   "id": "bf390b6c",
   "metadata": {},
   "outputs": [],
   "source": [
    "start_time = None\n",
    "\n",
    "def start_timer():\n",
    "    global start_time\n",
    "    if device == 'cuda':\n",
    "        torch.cuda.synchronize()\n",
    "    start_time = time.time()\n",
    "\n",
    "def end_timer_and_print():\n",
    "    if device == 'cuda':\n",
    "        torch.cuda.synchronize()\n",
    "    end_time = time.time()\n",
    "    print(\"\\nTotal execution time {:.3f} sec\".format(end_time - start_time))"
   ]
  },
  {
   "cell_type": "code",
   "execution_count": 11,
   "id": "2d41efec-4a43-4bb3-a4f5-23f1bb886783",
   "metadata": {},
   "outputs": [],
   "source": [
    "def plot_images(img_list, num=6, size=12):\n",
    "    if isinstance(img_list, tuple):\n",
    "        img_list = list(img_list)\n",
    "    elif isinstance(img_list, (np.ndarray, torch.Tensor)):\n",
    "        img_list = [img_list]\n",
    "    else:\n",
    "        raise Exception(\"input must be ndarray or sequence or list of ndarrays\")\n",
    "        \n",
    "    for i in range(len(img_list)):\n",
    "        if isinstance(img_list[i], torch.Tensor):\n",
    "            img_list[i] = img_list[i].cpu().numpy()\n",
    "            \n",
    "        depth = img_list[i].ndim\n",
    "        if depth == 4:\n",
    "            continue\n",
    "        elif depth == 3:\n",
    "            img_list[i] = np.expand_dims(img_list[i], 0)\n",
    "        elif depth == 2:\n",
    "            img_list[i] = np.expand_dims(img_list[i], (0,1))\n",
    "        else:\n",
    "            raise Exception(\"image arrays must have depth between 2 and 4, inclusive\")\n",
    "            \n",
    "    lengths = [imgs.shape[0] for imgs in img_list]\n",
    "    if lengths.count(lengths[0]) != len(lengths):\n",
    "        raise Exception(\"image arrays must have the same first dimension size\")\n",
    "    if num == -1 or num > lengths[0]:\n",
    "        num = lengths[0]\n",
    "    num_list = len(img_list)\n",
    "    \n",
    "    if num == 1:\n",
    "        plt.figure(figsize=(size, size/num_list))\n",
    "        for i, img in enumerate(img_list):\n",
    "            plt.subplot(1, num_list, i+1)\n",
    "            plt.imshow(img[0, 0], cmap='gray_r')\n",
    "            plt.axis('off')\n",
    "    else:\n",
    "        plt.figure(figsize=(size, size*num_list/num))\n",
    "        for i, imgs in enumerate(img_list):\n",
    "            for j, img in enumerate(imgs):\n",
    "                if j >= num: break\n",
    "                plt.subplot(num_list, num, num*i+j+1)\n",
    "                plt.imshow(img[0], cmap='gray_r')\n",
    "                plt.axis('off')\n",
    "    \n",
    "    plt.show()"
   ]
  },
  {
   "cell_type": "code",
   "execution_count": 28,
   "id": "15917c02-9646-48b7-8e95-5b4cf5ce9039",
   "metadata": {},
   "outputs": [],
   "source": [
    "def pearson_correlation(x, y):\n",
    "    if x.shape != y.shape:\n",
    "        raise Exception(\"Arguments must have same shape\")\n",
    "    x = x - x.mean(-1, keepdim=True)\n",
    "    y = y - y.mean(-1, keepdim=True)\n",
    "    \n",
    "    return ( torch.sum(x * y, -1)\n",
    "             * torch.rsqrt(torch.sum(x**2, -1) * torch.sum(y**2, -1)) )\n",
    "\n",
    "def pairwise_correlation(first_tensor, second_tensor=None):\n",
    "    first_tensor = torch.as_tensor(first_tensor, dtype=torch.float, device=device)\n",
    "    if second_tensor is None:\n",
    "        second_tensor = first_tensor\n",
    "        replacement=False\n",
    "    else:\n",
    "        second_tensor = torch.as_tensor(second_tensor, dtype=torch.float, device=device)\n",
    "        replacement=True\n",
    "    if first_tensor.dim() != 2 or second_tensor.dim() != 2:\n",
    "        raise Exception(\"Arguments must be a 2D tensors\")\n",
    "    if first_tensor.shape != second_tensor.shape:\n",
    "        raise Exception(\"Arguments must have same shape\")\n",
    "        \n",
    "    inds_of_pairs = torch.combinations(torch.arange(len(first_tensor)), with_replacement=replacement)\n",
    "    max_inds = 50000\n",
    "    if len(inds_of_pairs) > max_inds:\n",
    "        inds_of_subsample = torch.multinomial(torch.ones(len(inds_of_pairs)), max_inds)\n",
    "        inds_of_pairs = inds_of_pairs[inds_of_subsample]\n",
    "        \n",
    "    inds_of_pairs = inds_of_pairs.to(device)\n",
    "    first_vectors = first_tensor.index_select(0, inds_of_pairs[:,0])\n",
    "    second_vectors = second_tensor.index_select(0, inds_of_pairs[:,1])\n",
    "    \n",
    "    correlations = pearson_correlation(first_vectors, second_vectors)\n",
    "    # Deleting variables to free up memory\n",
    "    del first_tensor, second_tensor, first_vectors, second_vectors\n",
    "    if device == 'cuda':\n",
    "        torch.cuda.empty_cache()\n",
    "    return correlations.mean().item()"
   ]
  },
  {
   "cell_type": "markdown",
   "id": "0af8ea58",
   "metadata": {},
   "source": [
    "# Loading images"
   ]
  },
  {
   "cell_type": "code",
   "execution_count": 15,
   "id": "9da31f01",
   "metadata": {},
   "outputs": [],
   "source": [
    "img_data = datasets.FashionMNIST(\n",
    "    root=\"../data\",\n",
    "    train=True,\n",
    "    download=True,\n",
    "    transform=ToTensor()\n",
    ")"
   ]
  },
  {
   "cell_type": "code",
   "execution_count": 8,
   "id": "73433879",
   "metadata": {
    "tags": []
   },
   "outputs": [
    {
     "name": "stdout",
     "output_type": "stream",
     "text": [
      "Number of batches:  12\n",
      "Shape of X [N, C, H, W]:  torch.Size([128, 1, 28, 28])\n",
      "Shape of y:  torch.Size([128]) torch.int64\n"
     ]
    },
    {
     "data": {
      "image/png": "[encoded data removed]",
      "text/plain": [
       "<Figure size 864x72 with 12 Axes>"
      ]
     },
     "metadata": {
      "needs_background": "light"
     },
     "output_type": "display_data"
    }
   ],
   "source": [
    "# coats, trousers, sneakers\n",
    "class_inds = [4, 1, 7]\n",
    "num_classes = len(class_inds)\n",
    "class_size = 512\n",
    "batch_size = 128\n",
    "\n",
    "inds_by_class = [torch.where(img_data.targets == class_idx)[0][:class_size] \n",
    "                       for class_idx in class_inds]\n",
    "data_inds = torch.flatten(torch.stack(inds_by_class).T)\n",
    "\n",
    "AE_dataloader = DataLoader(Subset(img_data, data_inds),\n",
    "                           batch_size=batch_size, shuffle=True)\n",
    "\n",
    "print(\"Number of batches: \", len(AE_dataloader))\n",
    "\n",
    "for X, y in AE_dataloader:\n",
    "    print(\"Shape of X [N, C, H, W]: \", X.shape)\n",
    "    print(\"Shape of y: \", y.shape, y.dtype)\n",
    "    break\n",
    "    \n",
    "plot_images(next(iter(AE_dataloader))[0], num=12)"
   ]
  },
  {
   "cell_type": "markdown",
   "id": "5062785a",
   "metadata": {},
   "source": [
    "# From images to EC through autoencoder"
   ]
  },
  {
   "cell_type": "markdown",
   "id": "72208a58-5add-49e1-8851-f6566245d46b",
   "metadata": {},
   "source": [
    "## Setup"
   ]
  },
  {
   "cell_type": "code",
   "execution_count": 16,
   "id": "c1535844-2596-4626-b7a4-f6d8eb219d5c",
   "metadata": {},
   "outputs": [],
   "source": [
    "EC_size = 1024\n",
    "EC_sp = 0.1"
   ]
  },
  {
   "cell_type": "code",
   "execution_count": 36,
   "id": "09c489fa",
   "metadata": {},
   "outputs": [],
   "source": [
    "def step(x, x0):\n",
    "    return (x > x0).float()\n",
    "\n",
    "# Straight-through estimator for binarization and backpropagation\n",
    "class STEFunction(torch.autograd.Function):\n",
    "    @staticmethod\n",
    "    def forward(ctx, x):\n",
    "        return step(x, 0.)\n",
    "\n",
    "    @staticmethod\n",
    "    def backward(ctx, grad_output):\n",
    "        return F.hardtanh(grad_output)\n",
    "\n",
    "# Binarization layer with gradients propagated backwards by STE\n",
    "class Binarize(nn.Module):\n",
    "    def __init__(self):\n",
    "        super().__init__()\n",
    "\n",
    "    def forward(self, x):\n",
    "        return STEFunction.apply(x)"
   ]
  },
  {
   "cell_type": "code",
   "execution_count": 37,
   "id": "6dbb7559",
   "metadata": {
    "tags": []
   },
   "outputs": [],
   "source": [
    "# Middle binary layer represents EC\n",
    "class Autoencoder(nn.Module):\n",
    "    def __init__(self, hidden_size=128):\n",
    "        super().__init__()\n",
    "        self.hidden_size = hidden_size\n",
    "        \n",
    "        self.encoder = nn.Sequential(\n",
    "            nn.Flatten(),\n",
    "            nn.Linear(28*28, hidden_size),\n",
    "            nn.BatchNorm1d(hidden_size),\n",
    "            nn.ReLU(),\n",
    "            nn.Linear(hidden_size, EC_size),\n",
    "            nn.BatchNorm1d(EC_size),\n",
    "            Binarize()\n",
    "        )\n",
    "        self.decoder = nn.Sequential(\n",
    "            nn.Linear(EC_size, hidden_size),\n",
    "            nn.BatchNorm1d(hidden_size),\n",
    "            nn.ReLU(),\n",
    "            nn.Linear(hidden_size, 28*28),\n",
    "            nn.Sigmoid(),\n",
    "            nn.Unflatten(-1, (1, 28, 28))\n",
    "        )\n",
    "        \n",
    "    def forward(self, x):\n",
    "        features = self.encoder(x)\n",
    "        x = self.decoder(features)\n",
    "        return x, features"
   ]
  },
  {
   "cell_type": "code",
   "execution_count": 19,
   "id": "f3e9ff0e",
   "metadata": {},
   "outputs": [],
   "source": [
    "# Loss function that enforces layer sparsity to be sp\n",
    "class SparseLoss(nn.Module):\n",
    "    def __init__(self, sp):\n",
    "        super().__init__()\n",
    "        self.sp = sp\n",
    "\n",
    "    def forward(self, features):\n",
    "        sp_hat = features.mean(1)\n",
    "        kl_divergence = -self.sp * torch.log(sp_hat) - (1-self.sp) * torch.log(1-sp_hat)\n",
    "        return kl_divergence.mean()"
   ]
  },
  {
   "cell_type": "code",
   "execution_count": 20,
   "id": "e9dfa737",
   "metadata": {
    "tags": []
   },
   "outputs": [],
   "source": [
    "def AE_train(dataloader, model,\n",
    "             err_criterion, sparse_criterion, sparse_strength,\n",
    "             optimizer, num_epochs, print_epochs=5):\n",
    "    \n",
    "    size = len(dataloader.dataset)\n",
    "    \n",
    "    print(f\"TRAINING -----------------------\")\n",
    "    model.train()\n",
    "    \n",
    "    for t in range(num_epochs):\n",
    "        mean_err = 0.\n",
    "        mean_sparse_loss = 0.\n",
    "        mean_sp = 0.\n",
    "        \n",
    "        for X, _ in dataloader:\n",
    "            X = X.to(device)\n",
    "            pred, features = model(X)\n",
    "            \n",
    "            err = err_criterion(pred, X)\n",
    "            sparse_loss = sparse_criterion(features)\n",
    "            mean_err += err.item() * len(X)\n",
    "            mean_sparse_loss += sparse_loss.item() * len(X)\n",
    "            mean_sp += features.detach().mean().item() * len(X)\n",
    "\n",
    "            loss = err + sparse_strength * sparse_loss\n",
    "            loss.backward()\n",
    "            optimizer.step()\n",
    "            optimizer.zero_grad(set_to_none=True)\n",
    "\n",
    "        mean_err = (mean_err / size)**0.5\n",
    "        mean_sparse_loss /= size\n",
    "        mean_sp /= size\n",
    "        if (print_epochs > 0\n",
    "            and ((t+1) % print_epochs == 0 or t == 0)):\n",
    "            print(f\"{t:>3d}\"\n",
    "                  f\"   RMSE: {mean_err:>6f}\"\n",
    "                  f\"   sp loss: {mean_sparse_loss:>6f}\"\n",
    "                  f\"   sparsity: {mean_sp:>6f}\")\n",
    "        \n",
    "    print(f\"\\nEVALUATING ---------------------\")\n",
    "    model.eval()\n",
    "    \n",
    "    mean_err = 0.\n",
    "    mean_sp = 0.\n",
    "    \n",
    "    X_list = []\n",
    "    y_list = []\n",
    "    pred_list = []\n",
    "    features_list = []\n",
    "    \n",
    "    with torch.no_grad():\n",
    "        for X, y in dataloader:\n",
    "            X, y = X.to(device), y.to(device)\n",
    "            pred, features = model(X)\n",
    "            \n",
    "            err = err_criterion(pred, X)\n",
    "            mean_err += err.item() * len(X)\n",
    "            mean_sp += features.detach().mean().item() * len(X)\n",
    "            \n",
    "            X_list.append(X.detach())\n",
    "            y_list.append(y.detach())\n",
    "            pred_list.append(pred.detach())\n",
    "            features_list.append(features.detach())\n",
    "            \n",
    "    mean_err = (mean_err / size)**0.5\n",
    "    mean_sp /= size\n",
    "    print(f\"RMSE: {mean_err:>5.4f}, sparsity: {mean_sp:>5.4f}\")\n",
    "    \n",
    "    return torch.cat(X_list), torch.cat(y_list), torch.cat(pred_list), torch.cat(features_list)"
   ]
  },
  {
   "cell_type": "markdown",
   "id": "d6bff088-5688-417c-a02c-c2132e0b791a",
   "metadata": {},
   "source": [
    "## Evaluation"
   ]
  },
  {
   "cell_type": "code",
   "execution_count": 21,
   "id": "eb7bd2e7",
   "metadata": {
    "tags": []
   },
   "outputs": [
    {
     "name": "stdout",
     "output_type": "stream",
     "text": [
      "Autoencoder(\n",
      "  (encoder): Sequential(\n",
      "    (0): Flatten(start_dim=1, end_dim=-1)\n",
      "    (1): Linear(in_features=784, out_features=128, bias=True)\n",
      "    (2): BatchNorm1d(128, eps=1e-05, momentum=0.1, affine=True, track_running_stats=True)\n",
      "    (3): ReLU()\n",
      "    (4): Linear(in_features=128, out_features=1024, bias=True)\n",
      "    (5): BatchNorm1d(1024, eps=1e-05, momentum=0.1, affine=True, track_running_stats=True)\n",
      "    (6): Binarize()\n",
      "  )\n",
      "  (decoder): Sequential(\n",
      "    (0): Linear(in_features=1024, out_features=128, bias=True)\n",
      "    (1): BatchNorm1d(128, eps=1e-05, momentum=0.1, affine=True, track_running_stats=True)\n",
      "    (2): ReLU()\n",
      "    (3): Linear(in_features=128, out_features=784, bias=True)\n",
      "    (4): Sigmoid()\n",
      "    (5): Unflatten(dim=-1, unflattened_size=(1, 28, 28))\n",
      "  )\n",
      ")\n"
     ]
    }
   ],
   "source": [
    "AE_model = Autoencoder(hidden_size=128).to(device)\n",
    "print(AE_model)\n",
    "\n",
    "AE_criterion = nn.MSELoss(reduction='mean')\n",
    "sparse_criterion = SparseLoss(EC_sp)\n",
    "sparse_strength = 1\n",
    "\n",
    "AE_optimizer = torch.optim.Adam(AE_model.parameters(), lr=1e-3, weight_decay=1e-5)"
   ]
  },
  {
   "cell_type": "code",
   "execution_count": 22,
   "id": "e1791447",
   "metadata": {
    "tags": []
   },
   "outputs": [
    {
     "name": "stdout",
     "output_type": "stream",
     "text": [
      "TRAINING -----------------------\n",
      "  0   RMSE: 0.374066   sp loss: 0.688840   sparsity: 0.497176\n",
      "  4   RMSE: 0.176751   sp loss: 0.660377   sparsity: 0.478903\n",
      "  9   RMSE: 0.147019   sp loss: 0.625670   sparsity: 0.455358\n",
      " 14   RMSE: 0.130706   sp loss: 0.588756   sparsity: 0.428726\n",
      " 19   RMSE: 0.121815   sp loss: 0.554261   sparsity: 0.402161\n",
      " 24   RMSE: 0.116137   sp loss: 0.519323   sparsity: 0.373305\n",
      " 29   RMSE: 0.109996   sp loss: 0.483735   sparsity: 0.341568\n",
      " 34   RMSE: 0.106571   sp loss: 0.451825   sparsity: 0.310511\n",
      " 39   RMSE: 0.104225   sp loss: 0.421904   sparsity: 0.278378\n",
      " 44   RMSE: 0.100611   sp loss: 0.395769   sparsity: 0.247368\n",
      " 49   RMSE: 0.098843   sp loss: 0.372995   sparsity: 0.216517\n",
      " 54   RMSE: 0.097688   sp loss: 0.356583   sparsity: 0.190781\n",
      " 59   RMSE: 0.095436   sp loss: 0.343467   sparsity: 0.165980\n",
      " 64   RMSE: 0.095189   sp loss: 0.336090   sparsity: 0.148408\n",
      " 69   RMSE: 0.093070   sp loss: 0.330928   sparsity: 0.133479\n",
      " 74   RMSE: 0.092177   sp loss: 0.328039   sparsity: 0.121557\n",
      " 79   RMSE: 0.092129   sp loss: 0.327454   sparsity: 0.115475\n",
      " 84   RMSE: 0.090685   sp loss: 0.326281   sparsity: 0.105602\n",
      " 89   RMSE: 0.090293   sp loss: 0.326000   sparsity: 0.101835\n",
      " 94   RMSE: 0.088470   sp loss: 0.325904   sparsity: 0.102351\n",
      " 99   RMSE: 0.088529   sp loss: 0.325898   sparsity: 0.100636\n",
      "\n",
      "EVALUATING ---------------------\n",
      "RMSE: 0.0918, sparsity: 0.0989\n",
      "\n",
      "Total execution time 11.869 sec\n",
      "Done!\n"
     ]
    }
   ],
   "source": [
    "num_epochs = 100\n",
    "start_timer()\n",
    "AE_X, AE_y, AE_pred, AE_features = AE_train(\n",
    "    AE_dataloader, AE_model, AE_criterion,\n",
    "    sparse_criterion, sparse_strength, AE_optimizer, num_epochs\n",
    ")\n",
    "end_timer_and_print()\n",
    "print(\"Done!\")"
   ]
  },
  {
   "cell_type": "code",
   "execution_count": 23,
   "id": "672478eb",
   "metadata": {},
   "outputs": [
    {
     "data": {
      "image/png": "[encoded data removed]",
      "text/plain": [
       "<Figure size 864x288 with 12 Axes>"
      ]
     },
     "metadata": {
      "needs_background": "light"
     },
     "output_type": "display_data"
    },
    {
     "data": {
      "image/png": "[encoded data removed]",
      "text/plain": [
       "<Figure size 864x288 with 12 Axes>"
      ]
     },
     "metadata": {
      "needs_background": "light"
     },
     "output_type": "display_data"
    },
    {
     "data": {
      "image/png": "[encoded data removed]",
      "text/plain": [
       "<Figure size 864x288 with 12 Axes>"
      ]
     },
     "metadata": {
      "needs_background": "light"
     },
     "output_type": "display_data"
    }
   ],
   "source": [
    "AE_inds_by_class = [torch.where(AE_y == class_idx)[0] for class_idx in class_inds]\n",
    "\n",
    "X_by_class = [AE_X.index_select(0, inds) for inds in AE_inds_by_class]\n",
    "pred_by_class = [AE_pred.index_select(0, inds) for inds in AE_inds_by_class]\n",
    "features_by_class = [AE_features.index_select(0, inds) for inds in AE_inds_by_class]\n",
    "\n",
    "for X, pred in zip(X_by_class, pred_by_class):\n",
    "    plot_images((X, pred))"
   ]
  },
  {
   "cell_type": "code",
   "execution_count": 26,
   "id": "e47cc4ff",
   "metadata": {},
   "outputs": [
    {
     "name": "stdout",
     "output_type": "stream",
     "text": [
      "Correlations by class:\n",
      "[0.08845160901546478, 0.09853220731019974, 0.1541452556848526]\n",
      "Cross-correlations:\n",
      "[-0.01904207468032837, -0.013340339064598083, -0.028332138434052467]\n"
     ]
    }
   ],
   "source": [
    "print(\"Correlations by class:\")\n",
    "print([pairwise_correlation(features) for features in features_by_class])\n",
    "\n",
    "print(\"Cross-correlations:\")\n",
    "print([pairwise_correlation(features_by_class[i], features_by_class[j])\n",
    "       for i, j in [(0,1), (0,2), (1,2)]])"
   ]
  },
  {
   "cell_type": "code",
   "execution_count": 29,
   "id": "b16c7266-3eec-4fd2-b738-4616398750f1",
   "metadata": {},
   "outputs": [
    {
     "data": {
      "image/png": "[encoded data removed]",
      "text/plain": [
       "<Figure size 432x144 with 3 Axes>"
      ]
     },
     "metadata": {
      "needs_background": "light"
     },
     "output_type": "display_data"
    },
    {
     "data": {
      "image/png": "[encoded data removed]",
      "text/plain": [
       "<Figure size 432x144 with 3 Axes>"
      ]
     },
     "metadata": {
      "needs_background": "light"
     },
     "output_type": "display_data"
    },
    {
     "data": {
      "image/png": "[encoded data removed]",
      "text/plain": [
       "<Figure size 432x144 with 3 Axes>"
      ]
     },
     "metadata": {
      "needs_background": "light"
     },
     "output_type": "display_data"
    }
   ],
   "source": [
    "X_concepts = [X.mean(0) for X in X_by_class]\n",
    "X_shape = X_concepts[0].shape\n",
    "pred_concepts = [pred.mean(0) for pred in pred_by_class]\n",
    "\n",
    "def sparse_binarize(vector, sp):\n",
    "    return (vector >= vector.quantile(1-sp)).float()\n",
    "\n",
    "features_means = [sparse_binarize(features.mean(0), EC_sp) for features in features_by_class]\n",
    "\n",
    "AE_model.eval()\n",
    "with torch.no_grad():\n",
    "    features_concepts = [AE_model.decoder(features.unsqueeze(0)).squeeze(0)\n",
    "                         for features in features_means]\n",
    "    \n",
    "for X, pred, features in zip(X_concepts, pred_concepts, features_concepts):\n",
    "    plot_images((X, pred, features), size=6)"
   ]
  },
  {
   "cell_type": "code",
   "execution_count": 31,
   "id": "24755c03",
   "metadata": {},
   "outputs": [],
   "source": [
    "torch.save({\n",
    "    'model_state_dict': AE_model.state_dict(),\n",
    "    'class_inds': class_inds,\n",
    "    'X_by_class': X_by_class,\n",
    "    'pred_by_class': pred_by_class,\n",
    "    'features_by_class': features_by_class,\n",
    "    'X_concepts': X_concepts,\n",
    "    'pred_concepts': pred_concepts,\n",
    "    'features_concepts': features_concepts\n",
    "}, f\"results/AE.pt\")"
   ]
  },
  {
   "cell_type": "markdown",
   "id": "921131d8-c0e7-4c57-983f-db14ce3818c0",
   "metadata": {},
   "source": [
    "# From EC to CA3 through random connectivity"
   ]
  },
  {
   "cell_type": "markdown",
   "id": "aee9ba22-bd9c-4e39-b01f-f27b188d073e",
   "metadata": {},
   "source": [
    "## Setup"
   ]
  },
  {
   "cell_type": "code",
   "execution_count": 33,
   "id": "939f2e94-9232-4844-9769-8875201e43e2",
   "metadata": {},
   "outputs": [
    {
     "name": "stdout",
     "output_type": "stream",
     "text": [
      "Number of neurons\n",
      "EC: 1024,  DG: 8192,  CA3: 2048\n",
      "\n",
      "Number of inputs per postsynaptic neuron\n",
      "DG: 205,  PP: 205,  MF: 8\n",
      "\n",
      "Number of active neurons\n",
      "DG: 41,  PP: 410,  MF: 41\n"
     ]
    }
   ],
   "source": [
    "DG_size = EC_size * 8\n",
    "CA3_size = EC_size * 2\n",
    "\n",
    "print(f\"Number of neurons\")\n",
    "print(f\"EC: {EC_size},  DG: {DG_size},  CA3: {CA3_size}\")\n",
    "\n",
    "DG_conn = 0.2\n",
    "PP_conn = 0.2\n",
    "MF_conn = 0.001\n",
    "\n",
    "DG_per_post = round(DG_conn * EC_size)\n",
    "PP_per_post = round(PP_conn * EC_size)\n",
    "MF_per_post = round(MF_conn * DG_size)\n",
    "\n",
    "print(f\"\\nNumber of inputs per postsynaptic neuron\")\n",
    "print(f\"DG: {DG_per_post},  PP: {PP_per_post},  MF: {MF_per_post}\")\n",
    "\n",
    "DG_sp = 0.005\n",
    "PP_sp = 0.2\n",
    "MF_sp = 0.02\n",
    "\n",
    "DG_active = round(DG_sp * DG_size)\n",
    "PP_active = round(PP_sp * CA3_size)\n",
    "MF_active = round(MF_sp * CA3_size)\n",
    "\n",
    "print(f\"\\nNumber of active neurons\")\n",
    "print(f\"DG: {DG_active},  PP: {PP_active},  MF: {MF_active}\")"
   ]
  },
  {
   "cell_type": "code",
   "execution_count": 34,
   "id": "6ce9f2d4-f2e7-44a3-bf60-bdc2cb1d48cd",
   "metadata": {},
   "outputs": [],
   "source": [
    "# Random connectivities stored as sparse matrices\n",
    "def create_synapses(pre_size, post_size, inputs_per_post):\n",
    "    data = np.ones(post_size * inputs_per_post, dtype=int)\n",
    "    indices = np.concatenate([np.random.choice(pre_size, inputs_per_post, replace=False)\n",
    "                              for _ in range(post_size)])\n",
    "    indptr = np.arange(post_size+1) * inputs_per_post\n",
    "    return csr_matrix((data, indices, indptr), shape=(post_size, pre_size))\n",
    "\n",
    "DG_synapses = create_synapses(EC_size, DG_size, DG_per_post)\n",
    "MF_synapses = create_synapses(DG_size, CA3_size, MF_per_post)\n",
    "PP_synapses = create_synapses(EC_size, CA3_size, PP_per_post)"
   ]
  },
  {
   "cell_type": "code",
   "execution_count": 40,
   "id": "35f68cf8-36fd-42da-9ff4-438146430a3a",
   "metadata": {},
   "outputs": [],
   "source": [
    "# k-winners-take-all implicitly sets an activity threshold\n",
    "def kWTA(inputs, k):\n",
    "    tiebreaker = np.random.rand(inputs.size)\n",
    "    inds = np.lexsort((tiebreaker, inputs))\n",
    "    output = np.zeros_like(inputs)\n",
    "    np.put(output, inds[-k:], 1)\n",
    "    return output\n",
    "\n",
    "# Apply connectivity matrix then apply kWTA\n",
    "def feedforward_WTA(pre_patterns, synapses, post_active):\n",
    "    post_inputs = synapses.dot(pre_patterns.T).T\n",
    "    return np.apply_along_axis(kWTA, 1, post_inputs, k=post_active)"
   ]
  },
  {
   "cell_type": "markdown",
   "id": "c9c8037c-5b96-4158-97fd-7a566ebd6671",
   "metadata": {},
   "source": [
    "## Evaluation "
   ]
  },
  {
   "cell_type": "code",
   "execution_count": 41,
   "id": "aa251217-a0b5-4ddb-83d6-55b563b29485",
   "metadata": {},
   "outputs": [],
   "source": [
    "EC_patterns = [features.cpu().numpy().astype(int)\n",
    "               for features in features_by_class]\n",
    "\n",
    "DG_patterns = [feedforward_WTA(patterns, DG_synapses, DG_active)\n",
    "               for patterns in EC_patterns]\n",
    "MF_patterns = [feedforward_WTA(patterns, MF_synapses, MF_active)\n",
    "               for patterns in DG_patterns]\n",
    "PP_patterns = [feedforward_WTA(patterns, PP_synapses, PP_active)\n",
    "               for patterns in EC_patterns]"
   ]
  },
  {
   "cell_type": "code",
   "execution_count": 42,
   "id": "cf09ae63-dcf7-45c0-964c-a1b852913463",
   "metadata": {},
   "outputs": [
    {
     "name": "stdout",
     "output_type": "stream",
     "text": [
      "EC sparsity:\n",
      "[0.10310935974121094, 0.09760284423828125, 0.09601020812988281]\n",
      "\n",
      "DG sparsity:\n",
      "[0.0050048828125, 0.0050048828125, 0.0050048828125]\n",
      "\n",
      "MF sparsity:\n",
      "[0.02001953125, 0.02001953125, 0.02001953125]\n",
      "\n",
      "PP sparsity:\n",
      "[0.2001953125, 0.2001953125, 0.2001953125]\n"
     ]
    }
   ],
   "source": [
    "print(\"EC sparsity:\")\n",
    "print([patterns.mean() for patterns in EC_patterns])\n",
    "print(\"\\nDG sparsity:\")\n",
    "print([patterns.mean() for patterns in DG_patterns])\n",
    "print(\"\\nMF sparsity:\")\n",
    "print([patterns.mean() for patterns in MF_patterns])\n",
    "print(\"\\nPP sparsity:\")\n",
    "print([patterns.mean() for patterns in PP_patterns])"
   ]
  },
  {
   "cell_type": "code",
   "execution_count": 43,
   "id": "a61d6b4b-78d0-46a6-8cde-e4f3500c4e8f",
   "metadata": {},
   "outputs": [
    {
     "name": "stdout",
     "output_type": "stream",
     "text": [
      "EC correlation:\n",
      "[0.08888765424489975, 0.0986236110329628, 0.15416273474693298]\n",
      "\n",
      "DG correlation:\n",
      "[0.008346157148480415, 0.009202148765325546, 0.014614111743867397]\n",
      "\n",
      "MF correlation:\n",
      "[0.0043519833125174046, 0.004456017166376114, 0.007672607433050871]\n",
      "\n",
      "PP correlation:\n",
      "[0.046025507152080536, 0.053332775831222534, 0.08144451677799225]\n"
     ]
    }
   ],
   "source": [
    "print(\"EC correlation:\")\n",
    "print([pairwise_correlation(patterns) for patterns in EC_patterns])\n",
    "print(\"\\nDG correlation:\")\n",
    "print([pairwise_correlation(patterns) for patterns in DG_patterns])\n",
    "print(\"\\nMF correlation:\")\n",
    "print([pairwise_correlation(patterns) for patterns in MF_patterns])\n",
    "print(\"\\nPP correlation:\")\n",
    "print([pairwise_correlation(patterns) for patterns in PP_patterns])"
   ]
  },
  {
   "cell_type": "code",
   "execution_count": 44,
   "id": "e38864aa-37b0-478d-97ca-e08e8d45c395",
   "metadata": {},
   "outputs": [
    {
     "name": "stdout",
     "output_type": "stream",
     "text": [
      "\n",
      "MF cross-correlation:\n",
      "[-0.00026881525991484523, -0.0006391561473719776, -0.0007840070757083595]\n",
      "\n",
      "PP cross-correlation:\n",
      "[-0.0080377496778965, -0.007017499767243862, -0.01360563188791275]\n"
     ]
    }
   ],
   "source": [
    "print(\"\\nMF cross-correlation:\")\n",
    "print([pairwise_correlation(MF_patterns[i], MF_patterns[j])\n",
    "       for i, j in [(0,1), (0,2), (1,2)]])\n",
    "print(\"\\nPP cross-correlation:\")\n",
    "print([pairwise_correlation(PP_patterns[i], PP_patterns[j])\n",
    "       for i, j in [(0,1), (0,2), (1,2)]])"
   ]
  },
  {
   "cell_type": "code",
   "execution_count": 45,
   "id": "7716b6d0-2f82-4b68-8c3b-6562ffa22996",
   "metadata": {},
   "outputs": [
    {
     "name": "stdout",
     "output_type": "stream",
     "text": [
      "category sparsity:\n",
      "[0.2001953125, 0.2001953125, 0.2001953125]\n"
     ]
    }
   ],
   "source": [
    "# Category is identical to concept\n",
    "# PP categories are represented by the most active neurons up to PP sparsity\n",
    "def category_WTA(patterns, num_active):\n",
    "    return kWTA(patterns.sum(0), k=num_active)\n",
    "\n",
    "cat_patterns = [category_WTA(patterns, PP_active) for patterns in PP_patterns]\n",
    "print(\"category sparsity:\")\n",
    "print([patterns.mean() for patterns in cat_patterns])"
   ]
  },
  {
   "cell_type": "code",
   "execution_count": 48,
   "id": "66be66a5-0ede-4b75-8647-7da0b5e94cfc",
   "metadata": {},
   "outputs": [],
   "source": [
    "# We save patterns as packed binary arrays\n",
    "def save_patterns_binary(pattern_list, file):\n",
    "    binfile = open(file, 'w')\n",
    "    for patterns in pattern_list:\n",
    "        bindata = np.packbits(patterns)\n",
    "        bindata.tofile(binfile)\n",
    "    binfile.close()"
   ]
  },
  {
   "cell_type": "code",
   "execution_count": 49,
   "id": "dacacc31-0eb2-4702-8b8d-a5c02941b968",
   "metadata": {
    "tags": []
   },
   "outputs": [
    {
     "name": "stdout",
     "output_type": "stream",
     "text": [
      "results/N2048-p3-s512-a02-2\n"
     ]
    }
   ],
   "source": [
    "# Directory name is used by the Hopfield simulation to recognize pattern statistics\n",
    "pattern_dir = f\"results/\" \\\n",
    "              f\"N{CA3_size}-p{num_classes}-s{class_size}\" \\\n",
    "              f\"-a{str(MF_sp).split('0.')[1]}-{str(PP_sp).split('0.')[1]}\"\n",
    "print(pattern_dir)\n",
    "if not os.path.exists(pattern_dir):\n",
    "    os.mkdir(pattern_dir)\n",
    "save_patterns_binary(MF_patterns, f\"{pattern_dir}/x_sparse.dat\")\n",
    "save_patterns_binary(PP_patterns, f\"{pattern_dir}/x_dense.dat\")\n",
    "save_patterns_binary(cat_patterns, f\"{pattern_dir}/x_cat.dat\")"
   ]
  },
  {
   "cell_type": "markdown",
   "id": "3b9914c9-4726-4791-a13d-3aab99516fca",
   "metadata": {},
   "source": [
    "# From CA3 to EC through feedforward network "
   ]
  },
  {
   "cell_type": "markdown",
   "id": "22aff263-5086-40a0-9481-22d5192ae08b",
   "metadata": {},
   "source": [
    "## Setup"
   ]
  },
  {
   "cell_type": "code",
   "execution_count": 50,
   "id": "ec5ca33b-5713-432e-912d-0f51ff77e09f",
   "metadata": {},
   "outputs": [
    {
     "name": "stdout",
     "output_type": "stream",
     "text": [
      "Number of batches:  12\n",
      "Shape of X:  torch.Size([128, 2048]) torch.float32\n",
      "Shape of Y:  torch.Size([128, 1024]) torch.float32\n"
     ]
    }
   ],
   "source": [
    "sparse_patterns = torch.as_tensor(np.concatenate(MF_patterns), dtype=torch.float)\n",
    "dense_patterns = torch.as_tensor(np.concatenate(PP_patterns), dtype=torch.float)\n",
    "AE_features = torch.cat(features_by_class).cpu()\n",
    "\n",
    "class FeedforwardDataset(Dataset):\n",
    "    def __init__(self, X, Y, transform=None):\n",
    "        self.X = X\n",
    "        self.Y = Y\n",
    "        self.transform = transform\n",
    "        if len(X) != len(Y):\n",
    "            raise Exception(\"input and output patterns must have same length\")\n",
    "\n",
    "    def __len__(self):\n",
    "        return len(self.X)\n",
    "        \n",
    "    def __getitem__(self, idx):\n",
    "        if torch.is_tensor(idx):\n",
    "            idx = idx.tolist()\n",
    "            \n",
    "        X_sample = self.X[idx]\n",
    "        Y_sample = self.Y[idx]\n",
    "        \n",
    "        if self.transform:\n",
    "            X_sample = self.transform(X_sample)\n",
    "            Y_sample = self.transform(Y_sample)\n",
    "        \n",
    "        return (X_sample, Y_sample)\n",
    "    \n",
    "sparse_data = FeedforwardDataset(sparse_patterns, AE_features)\n",
    "dense_data = FeedforwardDataset(dense_patterns, AE_features)\n",
    "\n",
    "batch_size = 128\n",
    "FF_dataloaders = (DataLoader(sparse_data, batch_size=batch_size, shuffle=True),\n",
    "                  DataLoader(dense_data, batch_size=batch_size, shuffle=True))\n",
    "\n",
    "print(\"Number of batches: \", len(FF_dataloaders[0]))\n",
    "\n",
    "for X, Y in FF_dataloaders[0]:\n",
    "    print(\"Shape of X: \", X.shape, X.dtype)\n",
    "    print(\"Shape of Y: \", Y.shape, Y.dtype)\n",
    "    break"
   ]
  },
  {
   "cell_type": "code",
   "execution_count": 51,
   "id": "f610557b-77c2-4671-81ed-545ec0506d41",
   "metadata": {},
   "outputs": [],
   "source": [
    "class Feedforward(nn.Module):\n",
    "    def __init__(self, hidden_size=2*CA3_size):\n",
    "        super().__init__()\n",
    "        self.hidden_size = hidden_size\n",
    "        \n",
    "        self.feedforward = nn.Sequential(\n",
    "            nn.Linear(CA3_size, self.hidden_size),\n",
    "            nn.BatchNorm1d(self.hidden_size),\n",
    "            nn.ReLU(),\n",
    "            nn.Linear(self.hidden_size, EC_size),\n",
    "            nn.Sigmoid()\n",
    "        )\n",
    "        \n",
    "    def forward(self, x):\n",
    "        return self.feedforward(x)"
   ]
  },
  {
   "cell_type": "code",
   "execution_count": 58,
   "id": "36769f7b-fbb0-4931-b2f1-9e9e9234a8ce",
   "metadata": {},
   "outputs": [],
   "source": [
    "def FF_train(dataloaders, model, err_criterion, optimizer,\n",
    "             num_epochs, print_epochs=5):\n",
    "    \n",
    "    size = len(dataloaders[0].dataset)\n",
    "    \n",
    "    print(f\"TRAINING -----------------------\")\n",
    "    model.train()\n",
    "    \n",
    "    for t in range(num_epochs):\n",
    "        mean_loss = np.array([0., 0.], dtype=float)\n",
    "        mean_overlap = np.array([0., 0.], dtype=float)\n",
    "        mean_sparsity = np.array([0., 0.], dtype=float)\n",
    "    \n",
    "        for tt, dataloader in enumerate(dataloaders):\n",
    "            for X, Y in dataloader:\n",
    "                X, Y = X.to(device), Y.to(device)\n",
    "                output = model(X)\n",
    "\n",
    "                loss = err_criterion(Y, output)\n",
    "                mean_loss[tt] += loss.item() * len(Y)\n",
    "                pred = output.detach()\n",
    "                with torch.no_grad():\n",
    "                    overlaps = (Y * pred).sum(1) / Y.sum(1)\n",
    "                    mean_overlap[tt] += overlaps.sum().item()\n",
    "                    sparsities = pred.mean(1)\n",
    "                    mean_sparsity[tt] += sparsities.sum().item()\n",
    "\n",
    "                loss.backward()\n",
    "                optimizer.step()\n",
    "                optimizer.zero_grad(set_to_none=True)\n",
    "        \n",
    "        mean_loss = (mean_loss / size)**0.5\n",
    "        mean_overlap = mean_overlap / size\n",
    "        mean_sparsity = mean_sparsity / size\n",
    "        if (print_epochs > 0\n",
    "            and ((t+1) % print_epochs == 0 or t == 0)):\n",
    "            print(f\"{t:>3d}\"\n",
    "                  f\"   RMSE: {mean_loss[0]:>5.4f} {mean_loss[1]:>5.4f}\"\n",
    "                  f\"   overlap: {mean_overlap[0]:>5.4f} {mean_overlap[1]:>5.4f}\"\n",
    "                  f\"   sparsity: {mean_sparsity[0]:>4.3f} {mean_sparsity[1]:>4.3f}\")\n",
    "\n",
    "    print(f\"\\nEVALUATING ---------------------\")\n",
    "    model.eval()\n",
    "\n",
    "    Y_list = [[], []]\n",
    "    pred_list = [[], []]\n",
    "    \n",
    "    mean_overlap = np.array([0., 0.], dtype=float)\n",
    "    mean_sparsity = np.array([0., 0.], dtype=float)\n",
    "    \n",
    "    with torch.no_grad():\n",
    "        for tt, dataloader in enumerate(dataloaders):\n",
    "            for X, Y in dataloader:\n",
    "                X, Y = X.to(device), Y.to(device)\n",
    "                output = model(X)\n",
    "                pred = output.detach()\n",
    "\n",
    "                overlaps = (Y * pred).sum(1) / Y.sum(1)\n",
    "                mean_overlap[tt] += overlaps.sum().item()\n",
    "                sparsities = pred.mean(1)\n",
    "                mean_sparsity[tt] += sparsities.sum().item()\n",
    "        \n",
    "            Y_list[tt].append(Y.detach())\n",
    "            pred_list[tt].append(pred)   \n",
    "            \n",
    "    mean_overlap = mean_overlap / size\n",
    "    mean_sparsity = mean_sparsity / size\n",
    "    print(f\"overlap: {mean_overlap[0]:>5.4f} {mean_overlap[1]:>5.4f},  \", end='')\n",
    "    print(f\"sparsity: {mean_sparsity[0]:>4.3f} {mean_sparsity[1]:>4.3f}\")\n",
    "    \n",
    "    Y_list = [torch.cat(Y) for Y in Y_list]\n",
    "    pred_list = [torch.cat(pred) for pred in pred_list]\n",
    "\n",
    "    return Y_list, pred_list"
   ]
  },
  {
   "cell_type": "markdown",
   "id": "bd9d0f67-ba73-4e5d-bfa7-e5fcd31e96e7",
   "metadata": {},
   "source": [
    "## Evaluation"
   ]
  },
  {
   "cell_type": "code",
   "execution_count": 59,
   "id": "f35475ea-0d94-45ba-bfa1-e9e1014745fb",
   "metadata": {
    "tags": []
   },
   "outputs": [
    {
     "name": "stdout",
     "output_type": "stream",
     "text": [
      "Feedforward(\n",
      "  (feedforward): Sequential(\n",
      "    (0): Linear(in_features=2048, out_features=4096, bias=True)\n",
      "    (1): BatchNorm1d(4096, eps=1e-05, momentum=0.1, affine=True, track_running_stats=True)\n",
      "    (2): ReLU()\n",
      "    (3): Linear(in_features=4096, out_features=1024, bias=True)\n",
      "    (4): Sigmoid()\n",
      "  )\n",
      ")\n"
     ]
    }
   ],
   "source": [
    "FF_model = Feedforward(hidden_size=2*CA3_size).to(device)\n",
    "print(FF_model)\n",
    "\n",
    "FF_criterion = nn.MSELoss(reduction='mean')\n",
    "FF_optimizer = torch.optim.Adam(FF_model.parameters(), lr=1e-4, weight_decay=1e-5)"
   ]
  },
  {
   "cell_type": "code",
   "execution_count": 60,
   "id": "76df9cdf-d1cc-4754-bfe3-18fdae346544",
   "metadata": {
    "tags": []
   },
   "outputs": [
    {
     "name": "stdout",
     "output_type": "stream",
     "text": [
      "TRAINING -----------------------\n",
      "  0   RMSE: 0.3901 0.2986   overlap: 0.3149 0.1252   sparsity: 0.313 0.112\n",
      "  4   RMSE: 0.2765 0.2461   overlap: 0.2037 0.3585   sparsity: 0.112 0.128\n",
      "  9   RMSE: 0.2329 0.1982   overlap: 0.3815 0.5469   sparsity: 0.125 0.140\n",
      " 14   RMSE: 0.1909 0.1645   overlap: 0.5325 0.6492   sparsity: 0.128 0.137\n",
      " 19   RMSE: 0.1573 0.1385   overlap: 0.6381 0.7146   sparsity: 0.127 0.132\n",
      " 24   RMSE: 0.1309 0.1181   overlap: 0.7113 0.7612   sparsity: 0.126 0.127\n",
      " 29   RMSE: 0.1110 0.1022   overlap: 0.7603 0.7953   sparsity: 0.123 0.123\n",
      " 34   RMSE: 0.0958 0.0897   overlap: 0.7956 0.8203   sparsity: 0.121 0.120\n",
      " 39   RMSE: 0.0848 0.0801   overlap: 0.8201 0.8398   sparsity: 0.119 0.118\n",
      " 44   RMSE: 0.0764 0.0726   overlap: 0.8386 0.8546   sparsity: 0.117 0.116\n",
      " 49   RMSE: 0.0704 0.0674   overlap: 0.8514 0.8650   sparsity: 0.116 0.115\n",
      " 54   RMSE: 0.0654 0.0628   overlap: 0.8623 0.8737   sparsity: 0.115 0.113\n",
      " 59   RMSE: 0.0619 0.0597   overlap: 0.8704 0.8796   sparsity: 0.114 0.113\n",
      " 64   RMSE: 0.0590 0.0569   overlap: 0.8762 0.8852   sparsity: 0.114 0.112\n",
      " 69   RMSE: 0.0576 0.0555   overlap: 0.8784 0.8891   sparsity: 0.113 0.112\n",
      " 74   RMSE: 0.0553 0.0540   overlap: 0.8853 0.8907   sparsity: 0.113 0.111\n",
      " 79   RMSE: 0.0551 0.0569   overlap: 0.8840 0.8900   sparsity: 0.112 0.112\n",
      " 84   RMSE: 0.0568 0.0571   overlap: 0.8821 0.8913   sparsity: 0.113 0.112\n",
      " 89   RMSE: 0.0524 0.0504   overlap: 0.8916 0.8985   sparsity: 0.112 0.111\n",
      " 94   RMSE: 0.0519 0.0505   overlap: 0.8914 0.8989   sparsity: 0.112 0.111\n",
      " 99   RMSE: 0.0537 0.0558   overlap: 0.8899 0.8926   sparsity: 0.112 0.111\n",
      "\n",
      "EVALUATING ---------------------\n",
      "overlap: 0.5686 0.9045,  sparsity: 0.430 0.098\n",
      "\n",
      "Total execution time 7.917 sec\n",
      "Done!\n"
     ]
    }
   ],
   "source": [
    "num_epochs = 100\n",
    "start_timer()\n",
    "FF_Y, FF_pred = FF_train(\n",
    "    FF_dataloaders, FF_model, FF_criterion, FF_optimizer, num_epochs\n",
    ")\n",
    "end_timer_and_print()\n",
    "print(\"Done!\")"
   ]
  },
  {
   "cell_type": "code",
   "execution_count": 61,
   "id": "41ada376-0e70-4170-9b05-b6f6652c90c1",
   "metadata": {},
   "outputs": [],
   "source": [
    "torch.save({\n",
    "    'model_state_dict': FF_model.state_dict()\n",
    "}, f\"results/FF.pt\")"
   ]
  }
 ],
 "metadata": {
  "kernelspec": {
   "display_name": "Python 3 (ipykernel)",
   "language": "python",
   "name": "python3"
  },
  "language_info": {
   "codemirror_mode": {
    "name": "ipython",
    "version": 3
   },
   "file_extension": ".py",
   "mimetype": "text/x-python",
   "name": "python",
   "nbconvert_exporter": "python",
   "pygments_lexer": "ipython3",
   "version": "3.9.2"
  },
  "toc-autonumbering": false,
  "toc-showcode": false,
  "toc-showmarkdowntxt": true
 },
 "nbformat": 4,
 "nbformat_minor": 5
}
