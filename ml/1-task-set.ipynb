{
 "cells": [
  {
   "cell_type": "markdown",
   "id": "012dbd0a-82ff-4eed-9c02-3fb167e320f2",
   "metadata": {},
   "source": [
    "# General setup"
   ]
  },
  {
   "cell_type": "code",
   "execution_count": 1,
   "id": "e66fd64e-d56f-4bf8-9b36-e92233d9477e",
   "metadata": {},
   "outputs": [],
   "source": [
    "import os, sys, subprocess\n",
    "import time\n",
    "from glob import glob\n",
    "import itertools\n",
    "from functools import partial\n",
    "import copy\n",
    "import gc\n",
    "\n",
    "import importlib\n",
    "sys.path.insert(1, os.path.realpath('..'))\n",
    "sys.path.insert(1, os.path.realpath('../../PyTorchShared'))\n",
    "if \"utils\" not in sys.modules: import utils\n",
    "else: importlib.reload(utils)\n",
    "if \"ml\" not in sys.modules: import ml\n",
    "else: importlib.reload(ml)\n",
    "if \"train\" not in sys.modules: import train\n",
    "else: importlib.reload(train)\n",
    "\n",
    "# >>>\n",
    "import ipynbname\n",
    "nb_base = ipynbname.name().split('_')[0]\n",
    "# <<<\n",
    "\n",
    "import numpy as np\n",
    "\n",
    "# >>>\n",
    "from scipy import stats\n",
    "import matplotlib.pyplot as plt\n",
    "plt.rcParams.update({'font.size': 14})\n",
    "from matplotlib.colors import LinearSegmentedColormap\n",
    "from matplotlib import ticker\n",
    "import h5py\n",
    "import csv\n",
    "# <<<\n",
    "\n",
    "import torch\n",
    "from torch import nn\n",
    "from torch.utils.data import Dataset, DataLoader\n",
    "from torch.optim import SGD\n",
    "from torch.optim.lr_scheduler import MultiStepLR, ReduceLROnPlateau\n",
    "from torchvision.datasets import MNIST\n",
    "from torchvision.transforms import Compose, ToTensor, Normalize\n",
    "if not utils.is_notebook():\n",
    "    import torch.multiprocessing as mp"
   ]
  },
  {
   "cell_type": "code",
   "execution_count": 2,
   "id": "6432fe38-e245-4d74-bebf-ffe9ebbd1335",
   "metadata": {},
   "outputs": [
    {
     "name": "stdout",
     "output_type": "stream",
     "text": [
      "Using cuda device\n"
     ]
    }
   ],
   "source": [
    "# >>>\n",
    "device = \"cuda\" if torch.cuda.is_available() else \"cpu\"\n",
    "print(f\"Using {device} device\")\n",
    "# <<<"
   ]
  },
  {
   "cell_type": "markdown",
   "id": "fc9e2a1e-76a9-475f-b845-dec39bbb513f",
   "metadata": {},
   "source": [
    "# Loading Data"
   ]
  },
  {
   "cell_type": "code",
   "execution_count": 3,
   "id": "e8a0ac31-0c65-4489-9be5-4461b6695b88",
   "metadata": {
    "tags": []
   },
   "outputs": [],
   "source": [
    "transform = Compose([\n",
    "    ToTensor(),\n",
    "    Normalize((0.1307,), (0.3081,))\n",
    "])\n",
    "\n",
    "raw_train_dataset = MNIST(\n",
    "    root=\"../../../PyTorchShared/Datasets\",\n",
    "    train=True,\n",
    "    download=True,\n",
    "    transform=transform\n",
    ")\n",
    "\n",
    "raw_test_dataset = MNIST(\n",
    "    root=\"../../../PyTorchShared/Datasets\",\n",
    "    train=False,\n",
    "    download=True,\n",
    "    transform=transform\n",
    ")"
   ]
  },
  {
   "cell_type": "code",
   "execution_count": 4,
   "id": "a731b26c-f5b1-40c9-9aa0-7d698b7a3bd5",
   "metadata": {},
   "outputs": [
    {
     "name": "stdout",
     "output_type": "stream",
     "text": [
      "Shape of X [N, C, H, W]:  torch.Size([16, 1, 28, 28])\n",
      "Shape of y:  torch.Size([16]) torch.int64\n",
      "Shape of z:  torch.Size([16]) torch.int64\n"
     ]
    },
    {
     "data": {
      "image/png": "[encoded data removed]",
      "text/plain": [
       "<Figure size 864x72 with 12 Axes>"
      ]
     },
     "metadata": {
      "needs_background": "light"
     },
     "output_type": "display_data"
    },
    {
     "name": "stdout",
     "output_type": "stream",
     "text": [
      "tensor([5, 5, 5, 2, 1, 9, 5, 9, 0, 7, 7, 6])\n",
      "tensor([ 6,  1, 13,  2, 19, 10, 17,  2,  0, 16, 16, 12])\n"
     ]
    }
   ],
   "source": [
    "# >>>\n",
    "preview_dataloader = DataLoader(\n",
    "    ml.RelabeledSubset(raw_train_dataset, class_size=100,\n",
    "                       target2_config=20, transform=transform),\n",
    "    batch_size=16, shuffle=True)\n",
    "\n",
    "X, y, z = next(iter(preview_dataloader))\n",
    "print(\"Shape of X [N, C, H, W]: \", X.shape)\n",
    "print(\"Shape of y: \", y.shape, y.dtype)\n",
    "print(\"Shape of z: \", z.shape, z.dtype)\n",
    "    \n",
    "utils.plot_images(X.clamp_(-1, 1), num=12)\n",
    "print(y[:12])\n",
    "print(z[:12])\n",
    "# <<<"
   ]
  },
  {
   "cell_type": "markdown",
   "id": "3a692324-6056-4ebd-9c8b-b17db6984505",
   "metadata": {},
   "source": [
    "# Training"
   ]
  },
  {
   "cell_type": "code",
   "execution_count": 5,
   "id": "b24fa7f1-7336-433d-8b84-914ee02619d5",
   "metadata": {
    "tags": []
   },
   "outputs": [],
   "source": [
    "HIDDEN_SIZE = 50\n",
    "CLASS_SIZES = [20, 40, 60, 80, 100]\n",
    "num_sizes = len(CLASS_SIZES)\n",
    "BATCH_SIZE = 50\n",
    "NUM_EPISODES = 10\n",
    "\n",
    "DECORR_STRENGTH = 0.5\n",
    "NUM_REPLICATES = 32\n",
    "\n",
    "class_sizes = [rep\n",
    "               for size in CLASS_SIZES\n",
    "               for rep in (size,)*NUM_REPLICATES]*2\n",
    "decorr_criteria = [rep\n",
    "                   for criterion in (None, ml.decorr_criterion)\n",
    "                   for rep in (criterion,)*NUM_REPLICATES*num_sizes]\n",
    "\n",
    "MODE = 'episode'\n",
    "\n",
    "train_datasets = [(\n",
    "    ml.RelabeledSubset,\n",
    "    dict(dataset=raw_train_dataset, class_size=class_size,\n",
    "         target2_config=NUM_EPISODES, transform=transform)\n",
    ") for class_size in class_sizes]\n",
    "test_dataset = None \n",
    "\n",
    "model = (\n",
    "    ml.MLP,\n",
    "    dict(hidden_size=HIDDEN_SIZE, target_size=NUM_EPISODES,\n",
    "         nonlinearity1=nn.Tanh(), nonlinearity2=nn.Tanh())\n",
    ")\n",
    "\n",
    "devices = itertools.cycle([torch.device('cuda', i)\n",
    "                           for i in range(torch.cuda.device_count())])"
   ]
  },
  {
   "cell_type": "code",
   "execution_count": 6,
   "id": "efe080ae-adb4-4018-9f61-f9f592b8e4ca",
   "metadata": {},
   "outputs": [
    {
     "data": {
      "image/png": "[encoded data removed]",
      "text/plain": [
       "<Figure size 864x72 with 12 Axes>"
      ]
     },
     "metadata": {
      "needs_background": "light"
     },
     "output_type": "display_data"
    }
   ],
   "source": [
    "NUM_EPOCHS = 100\n",
    "PRINT_EPOCHS = 0\n",
    "LR_MILESTONES = [NUM_EPOCHS]\n",
    "LEARNING_RATE = 1e-4\n",
    "WEIGHT_DECAY = 0\n",
    "\n",
    "def NOISE_FN(data):\n",
    "    mask = torch.rand_like(data)\n",
    "    threshold = mask.quantile(0.2)\n",
    "    mask = (mask - threshold > 0).float()\n",
    "    noisy_data = data * mask\n",
    "    return noisy_data\n",
    "\n",
    "# >>>\n",
    "X, _, _ = next(iter(preview_dataloader))\n",
    "noisy_X = NOISE_FN(X)\n",
    "utils.plot_images(noisy_X.clamp_(-1., 1.), num=12)\n",
    "# <<<"
   ]
  },
  {
   "cell_type": "code",
   "execution_count": 7,
   "id": "3e0675d8-0ff7-4ddf-a2a6-543b8340a9a5",
   "metadata": {},
   "outputs": [
    {
     "data": {
      "text/plain": [
       "{'device': device(type='cuda', index=0),\n",
       " 'train_dataset': (ml.RelabeledSubset,\n",
       "  {'dataset': Dataset MNIST\n",
       "       Number of datapoints: 60000\n",
       "       Root location: ../../../PyTorchShared/Datasets\n",
       "       Split: Train\n",
       "       StandardTransform\n",
       "   Transform: Compose(\n",
       "                  ToTensor()\n",
       "                  Normalize(mean=(0.1307,), std=(0.3081,))\n",
       "              ),\n",
       "   'class_size': 20,\n",
       "   'target2_config': 10,\n",
       "   'transform': Compose(\n",
       "       ToTensor()\n",
       "       Normalize(mean=(0.1307,), std=(0.3081,))\n",
       "   )}),\n",
       " 'decorr_criterion': None}"
      ]
     },
     "execution_count": 7,
     "metadata": {},
     "output_type": "execute_result"
    }
   ],
   "source": [
    "kwargs_map = [dict(device=dev,\n",
    "                   train_dataset=param0,\n",
    "                   decorr_criterion=param1)\n",
    "               for dev, param0, param1\n",
    "               in zip(devices,\n",
    "                      train_datasets,\n",
    "                      decorr_criteria)]\n",
    "kwargs_partial = dict(model=model,\n",
    "                      mode=MODE,\n",
    "                      test_dataset=test_dataset,\n",
    "                      decorr_strength=DECORR_STRENGTH,\n",
    "                      noise_fn=NOISE_FN,\n",
    "                      batch_size=BATCH_SIZE,\n",
    "                      learning_rate=LEARNING_RATE,\n",
    "                      lr_milestones=LR_MILESTONES,\n",
    "                      num_epochs=NUM_EPOCHS,\n",
    "                      print_epochs=PRINT_EPOCHS)\n",
    "# >>>\n",
    "kwargs_map[0]\n",
    "# <<<"
   ]
  },
  {
   "cell_type": "code",
   "execution_count": 8,
   "id": "ea5af23e-5c0d-4ffe-a963-7db0bbf65ab3",
   "metadata": {},
   "outputs": [
    {
     "name": "stdout",
     "output_type": "stream",
     "text": [
      "(<class 'ml.MLP'>, {'hidden_size': 50, 'target_size': 10, 'nonlinearity1': Tanh(), 'nonlinearity2': Tanh()})\n",
      "cuda:7   0)   target:  2.328  decorr:  7.527   train: 0.095  test: 0.100\n",
      "cuda:7   4)   target:  2.282  decorr:  2.340   train: 0.143  test: 0.149\n",
      "cuda:7   9)   target:  2.240  decorr:  1.632   train: 0.188  test: 0.197\n",
      "cuda:7  14)   target:  2.197  decorr:  1.465   train: 0.236  test: 0.227\n",
      "cuda:7  19)   target:  2.147  decorr:  1.396   train: 0.272  test: 0.266\n",
      "cuda:7  24)   target:  2.079  decorr:  1.293   train: 0.329  test: 0.293\n",
      "cuda:7  29)   target:  1.991  decorr:  1.233   train: 0.384  test: 0.352\n",
      "cuda:7  34)   target:  1.875  decorr:  1.205   train: 0.449  test: 0.407\n",
      "cuda:7  39)   target:  1.735  decorr:  1.179   train: 0.516  test: 0.467\n",
      "cuda:7  44)   target:  1.564  decorr:  1.159   train: 0.581  test: 0.502\n",
      "cuda:7  49)   target:  1.368  decorr:  1.185   train: 0.664  test: 0.554\n",
      "cuda:7  54)   target:  1.165  decorr:  1.178   train: 0.741  test: 0.612\n",
      "cuda:7  59)   target:  0.962  decorr:  1.168   train: 0.804  test: 0.642\n",
      "cuda:7  64)   target:  0.792  decorr:  1.159   train: 0.858  test: 0.677\n",
      "cuda:7  69)   target:  0.631  decorr:  1.177   train: 0.906  test: 0.704\n",
      "cuda:7  74)   target:  0.517  decorr:  1.164   train: 0.936  test: 0.725\n",
      "cuda:7  79)   target:  0.413  decorr:  1.130   train: 0.966  test: 0.732\n",
      "cuda:7  84)   target:  0.332  decorr:  1.128   train: 0.977  test: 0.744\n",
      "cuda:7  89)   target:  0.274  decorr:  1.119   train: 0.988  test: 0.759\n",
      "cuda:7  94)   target:  0.226  decorr:  1.119   train: 0.993  test: 0.765\n",
      "cuda:7  99)   target:  0.192  decorr:  1.105   train: 0.994  test: 0.756\n",
      "\n",
      "Total execution time 6.537 sec\n"
     ]
    }
   ],
   "source": [
    "# >>>\n",
    "i_train = -1\n",
    "print(model)\n",
    "utils.start_timer()\n",
    "result = train.train(\n",
    "    **(kwargs_partial | {'print_epochs': 5}),\n",
    "    **kwargs_map[i_train]\n",
    ")\n",
    "utils.end_timer_and_print()\n",
    "# <<<"
   ]
  },
  {
   "cell_type": "code",
   "execution_count": 9,
   "id": "6555452b-a351-4434-88cd-1cd262602a62",
   "metadata": {
    "tags": []
   },
   "outputs": [],
   "source": [
    "if not utils.is_notebook():\n",
    "    train_partial = partial(train.train, **kwargs_partial)\n",
    "   \n",
    "    MAX_PROCESSES = 2 * torch.cuda.device_count()\n",
    "    \n",
    "    if __name__ == \"__main__\":\n",
    "        utils.start_timer()\n",
    "        mp.set_start_method('spawn', force=True)\n",
    "        \n",
    "        num_processes = min(len(kwargs_map), MAX_PROCESSES)\n",
    "        with mp.Pool(num_processes) as p:\n",
    "            results = utils.kwstarmap(p, train_partial, kwargs_map)\n",
    "\n",
    "        utils.end_timer_and_print()"
   ]
  },
  {
   "cell_type": "code",
   "execution_count": 10,
   "id": "e77c7d42-cebd-4dc0-a018-39b9186827fa",
   "metadata": {},
   "outputs": [
    {
     "name": "stderr",
     "output_type": "stream",
     "text": [
      "[NbConvertApp] Converting notebook sweep-episode10.ipynb to script\n",
      "[NbConvertApp] Writing 6403 bytes to sweep-episode10_nb.py\n"
     ]
    },
    {
     "data": {
      "text/plain": [
       "0"
      ]
     },
     "execution_count": 10,
     "metadata": {},
     "output_type": "execute_result"
    }
   ],
   "source": [
    "# >>$ exclude from script to end of notebook\n",
    "subprocess.call([\"/bin/zsh\", \"-ic\",\n",
    "                 f\"nb2script {nb_base}.ipynb\"])"
   ]
  },
  {
   "cell_type": "code",
   "execution_count": 11,
   "id": "3c38f15d-7a9d-445f-ac08-38964454680d",
   "metadata": {},
   "outputs": [
    {
     "name": "stdout",
     "output_type": "stream",
     "text": [
      "\n",
      "Total execution time 140.088 sec\n"
     ]
    }
   ],
   "source": [
    "nb_script = f\"{nb_base}_nb.py\"\n",
    "%run -i $nb_script"
   ]
  },
  {
   "cell_type": "markdown",
   "id": "49ea10c0-e09f-41ac-9cf5-02f6595e36df",
   "metadata": {},
   "source": [
    "# Results"
   ]
  },
  {
   "cell_type": "code",
   "execution_count": 12,
   "id": "50beeae4-ba15-429e-b794-f5acb768d24f",
   "metadata": {},
   "outputs": [],
   "source": [
    "losses = np.array([result[0] for result in results])\n",
    "train_accuracies = np.array([result[1] for result in results])\n",
    "test_accuracies = np.array([result[2] for result in results])"
   ]
  },
  {
   "cell_type": "code",
   "execution_count": 13,
   "id": "625022d8-16e5-476f-ac09-02d54d761d23",
   "metadata": {},
   "outputs": [],
   "source": [
    "if \"h5file\" in globals():\n",
    "    h5file.close()\n",
    "h5file = h5py.File(f\"results/{nb_base}.h5\", 'w')\n",
    "\n",
    "h5file.create_dataset(\"class_sizes\", data=class_sizes)\n",
    "h5file.create_dataset(\"losses\", data=losses)\n",
    "h5file.create_dataset(\"train_accuracies\", data=train_accuracies)\n",
    "h5file.create_dataset(\"test_accuracies\", data=test_accuracies)\n",
    "\n",
    "h5file.close()"
   ]
  },
  {
   "cell_type": "code",
   "execution_count": 14,
   "id": "8cc209de-ae17-4c05-8d73-7733d2e96d13",
   "metadata": {},
   "outputs": [],
   "source": [
    "sizes_by_criterion = np.array(class_sizes).reshape((2,-1))\n",
    "accuracies_by_criterion = test_accuracies[:,-1].reshape((2,-1))"
   ]
  },
  {
   "cell_type": "code",
   "execution_count": 15,
   "id": "e3f311e0-71fc-4706-9dc2-7367869e87b1",
   "metadata": {},
   "outputs": [
    {
     "data": {
      "image/png": "[encoded data removed]",
      "text/plain": [
       "<Figure size 432x360 with 1 Axes>"
      ]
     },
     "metadata": {
      "needs_background": "light"
     },
     "output_type": "display_data"
    }
   ],
   "source": [
    "colors = ('0.5', 'tab:blue')\n",
    "shift = 0.10\n",
    "shift_facs = sizes_by_criterion[0, 0] * np.array((-shift, shift))\n",
    "\n",
    "fig, ax = plt.subplots(figsize=(6, 5))\n",
    "for sizes, accuracies, shift, color \\\n",
    "in zip(sizes_by_criterion, accuracies_by_criterion, shift_facs, colors):\n",
    "    ax.scatter(sizes + shift, accuracies, color=color)\n",
    "ax.set_xticks(CLASS_SIZES)\n",
    "ax.xaxis.set_major_formatter(ticker.ScalarFormatter())\n",
    "ax.xaxis.set_minor_formatter(ticker.NullFormatter())\n",
    "fig.show()"
   ]
  },
  {
   "cell_type": "code",
   "execution_count": null,
   "id": "e708d6c7-d2ca-4056-88e4-5536810d82bb",
   "metadata": {},
   "outputs": [],
   "source": []
  }
 ],
 "metadata": {
  "kernelspec": {
   "display_name": "Python 3 (ipykernel)",
   "language": "python",
   "name": "python3"
  },
  "language_info": {
   "codemirror_mode": {
    "name": "ipython",
    "version": 3
   },
   "file_extension": ".py",
   "mimetype": "text/x-python",
   "name": "python",
   "nbconvert_exporter": "python",
   "pygments_lexer": "ipython3",
   "version": "3.9.2"
  }
 },
 "nbformat": 4,
 "nbformat_minor": 5
}
