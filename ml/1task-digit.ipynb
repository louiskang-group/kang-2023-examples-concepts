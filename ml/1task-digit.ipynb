{
 "cells": [
  {
   "cell_type": "markdown",
   "id": "012dbd0a-82ff-4eed-9c02-3fb167e320f2",
   "metadata": {},
   "source": [
    "# General setup"
   ]
  },
  {
   "cell_type": "code",
   "execution_count": 3,
   "id": "e66fd64e-d56f-4bf8-9b36-e92233d9477e",
   "metadata": {},
   "outputs": [],
   "source": [
    "import os, sys, subprocess\n",
    "import time\n",
    "from glob import glob\n",
    "import itertools\n",
    "from functools import partial\n",
    "import copy\n",
    "import gc\n",
    "\n",
    "import importlib\n",
    "sys.path.insert(1, os.path.realpath('lib'))\n",
    "if \"utils\" not in sys.modules: import utils\n",
    "else: importlib.reload(utils)\n",
    "if \"ml\" not in sys.modules: import ml\n",
    "else: importlib.reload(ml)\n",
    "if \"train\" not in sys.modules: import train\n",
    "else: importlib.reload(train)\n",
    "\n",
    "# >>>\n",
    "import ipynbname\n",
    "nb_base = ipynbname.name().split('_')[0]\n",
    "# <<<\n",
    "\n",
    "import numpy as np\n",
    "\n",
    "# >>>\n",
    "from scipy import stats\n",
    "import matplotlib.pyplot as plt\n",
    "plt.rcParams.update({'font.size': 14})\n",
    "from matplotlib import ticker\n",
    "import h5py\n",
    "# <<<\n",
    "\n",
    "import torch\n",
    "from torch import nn\n",
    "from torch.utils.data import Dataset, DataLoader\n",
    "from torch.optim import SGD\n",
    "from torchvision import datasets\n",
    "from torchvision.transforms import Compose, ToTensor, Normalize\n",
    "if not utils.is_notebook():\n",
    "    import torch.multiprocessing as mp"
   ]
  },
  {
   "cell_type": "code",
   "execution_count": 4,
   "id": "6432fe38-e245-4d74-bebf-ffe9ebbd1335",
   "metadata": {},
   "outputs": [
    {
     "name": "stdout",
     "output_type": "stream",
     "text": [
      "Using cuda device\n"
     ]
    }
   ],
   "source": [
    "# >>>\n",
    "device = \"cuda\" if torch.cuda.is_available() else \"cpu\"\n",
    "print(f\"Using {device} device\")\n",
    "# <<<"
   ]
  },
  {
   "cell_type": "markdown",
   "id": "fc9e2a1e-76a9-475f-b845-dec39bbb513f",
   "metadata": {},
   "source": [
    "# Loading Data"
   ]
  },
  {
   "cell_type": "code",
   "execution_count": 5,
   "id": "e8a0ac31-0c65-4489-9be5-4461b6695b88",
   "metadata": {
    "tags": []
   },
   "outputs": [],
   "source": [
    "transform = Compose([\n",
    "    ToTensor(),\n",
    "    Normalize((0.1307,), (0.3081,))\n",
    "])\n",
    "\n",
    "raw_train_dataset = datasets.MNIST(\n",
    "    root=\"../../../PyTorchShared/Datasets\",\n",
    "    train=True,\n",
    "    download=True,\n",
    "    transform=transform\n",
    ")\n",
    "\n",
    "raw_test_dataset = datasets.MNIST(\n",
    "    root=\"../../../PyTorchShared/Datasets\",\n",
    "    train=False,\n",
    "    download=True,\n",
    "    transform=transform\n",
    ")"
   ]
  },
  {
   "cell_type": "code",
   "execution_count": 6,
   "id": "a731b26c-f5b1-40c9-9aa0-7d698b7a3bd5",
   "metadata": {},
   "outputs": [
    {
     "name": "stdout",
     "output_type": "stream",
     "text": [
      "Shape of X [N, C, H, W]:  torch.Size([16, 1, 28, 28])\n",
      "Shape of y:  torch.Size([16]) torch.int64\n",
      "Shape of z:  torch.Size([16]) torch.int64\n"
     ]
    },
    {
     "data": {
      "image/png": "[encoded data removed]",
      "text/plain": [
       "<Figure size 864x72 with 12 Axes>"
      ]
     },
     "metadata": {
      "needs_background": "light"
     },
     "output_type": "display_data"
    },
    {
     "name": "stdout",
     "output_type": "stream",
     "text": [
      "tensor([2, 6, 2, 1, 0, 1, 3, 0, 4, 3, 1, 0])\n",
      "tensor([15, 16, 19, 16,  8, 16,  4,  4,  8,  2,  4, 13])\n"
     ]
    }
   ],
   "source": [
    "# >>>\n",
    "preview_dataloader = DataLoader(\n",
    "    ml.RelabeledSubset(raw_train_dataset, class_size=100,\n",
    "                       target2_config=20, transform=transform),\n",
    "    batch_size=16, shuffle=True)\n",
    "\n",
    "X, y, z = next(iter(preview_dataloader))\n",
    "print(\"Shape of X [N, C, H, W]: \", X.shape)\n",
    "print(\"Shape of y: \", y.shape, y.dtype)\n",
    "print(\"Shape of z: \", z.shape, z.dtype)\n",
    "    \n",
    "utils.plot_images(X.clamp_(-1, 1), num=12)\n",
    "print(y[:12])\n",
    "print(z[:12])\n",
    "# <<<"
   ]
  },
  {
   "cell_type": "markdown",
   "id": "3a692324-6056-4ebd-9c8b-b17db6984505",
   "metadata": {},
   "source": [
    "# Training"
   ]
  },
  {
   "cell_type": "code",
   "execution_count": 7,
   "id": "b24fa7f1-7336-433d-8b84-914ee02619d5",
   "metadata": {
    "tags": []
   },
   "outputs": [],
   "source": [
    "HIDDEN_SIZE = 50\n",
    "CLASS_SIZES = [200, 400, 600, 800, 1000]\n",
    "num_sizes = len(CLASS_SIZES)\n",
    "BATCH_SIZE = 50\n",
    "\n",
    "DECORR_STRENGTH = 0.5\n",
    "NUM_REPLICATES = 32\n",
    "\n",
    "class_sizes = [rep\n",
    "               for size in CLASS_SIZES\n",
    "               for rep in (size,)*NUM_REPLICATES]*2\n",
    "decorr_criteria = [rep\n",
    "                   for criterion in (None, ml.decorr_criterion)\n",
    "                   for rep in (criterion,)*NUM_REPLICATES*num_sizes]\n",
    "\n",
    "MODE = 'testval'\n",
    "\n",
    "train_datasets = [(\n",
    "    ml.RelabeledSubset,\n",
    "    dict(dataset=raw_train_dataset, class_size=class_size,\n",
    "         target2_config='none', transform=transform)\n",
    ") for class_size in class_sizes]\n",
    "test_dataset = (\n",
    "    ml.RelabeledSubset,\n",
    "    dict(dataset=raw_test_dataset,\n",
    "         target2_config='none', transform=transform)\n",
    ")\n",
    "\n",
    "model = (\n",
    "    ml.MLP,\n",
    "    dict(hidden_size=HIDDEN_SIZE, target_size=10,\n",
    "         nonlinearity1=nn.Tanh(), nonlinearity2=nn.Tanh())\n",
    ")\n",
    "\n",
    "devices = itertools.cycle([torch.device('cuda', i)\n",
    "                           for i in range(torch.cuda.device_count())])"
   ]
  },
  {
   "cell_type": "code",
   "execution_count": 8,
   "id": "efe080ae-adb4-4018-9f61-f9f592b8e4ca",
   "metadata": {},
   "outputs": [],
   "source": [
    "NUM_EPOCHS = 40\n",
    "PRINT_EPOCHS = 0\n",
    "LR_MILESTONES = [NUM_EPOCHS]\n",
    "LEARNING_RATE = 1e-4\n",
    "WEIGHT_DECAY = 0\n",
    "NOISE_FN = None"
   ]
  },
  {
   "cell_type": "code",
   "execution_count": 9,
   "id": "3e0675d8-0ff7-4ddf-a2a6-543b8340a9a5",
   "metadata": {},
   "outputs": [
    {
     "data": {
      "text/plain": [
       "{'device': device(type='cuda', index=0),\n",
       " 'train_dataset': (ml.RelabeledSubset,\n",
       "  {'dataset': Dataset MNIST\n",
       "       Number of datapoints: 60000\n",
       "       Root location: ../../../PyTorchShared/Datasets\n",
       "       Split: Train\n",
       "       StandardTransform\n",
       "   Transform: Compose(\n",
       "                  ToTensor()\n",
       "                  Normalize(mean=(0.1307,), std=(0.3081,))\n",
       "              ),\n",
       "   'class_size': 200,\n",
       "   'target2_config': 'none',\n",
       "   'transform': Compose(\n",
       "       ToTensor()\n",
       "       Normalize(mean=(0.1307,), std=(0.3081,))\n",
       "   )}),\n",
       " 'decorr_criterion': None}"
      ]
     },
     "execution_count": 9,
     "metadata": {},
     "output_type": "execute_result"
    }
   ],
   "source": [
    "kwargs_map = [dict(device=dev,\n",
    "                   train_dataset=param0,\n",
    "                   decorr_criterion=param1)\n",
    "               for dev, param0, param1\n",
    "               in zip(devices,\n",
    "                      train_datasets,\n",
    "                      decorr_criteria)]\n",
    "kwargs_partial = dict(model=model,\n",
    "                      mode=MODE,\n",
    "                      test_dataset=test_dataset,\n",
    "                      decorr_strength=DECORR_STRENGTH,\n",
    "                      noise_fn=NOISE_FN,\n",
    "                      batch_size=BATCH_SIZE,\n",
    "                      learning_rate=LEARNING_RATE,\n",
    "                      lr_milestones=LR_MILESTONES,\n",
    "                      num_epochs=NUM_EPOCHS,\n",
    "                      print_epochs=PRINT_EPOCHS)\n",
    "# >>>\n",
    "kwargs_map[0]\n",
    "# <<<"
   ]
  },
  {
   "cell_type": "code",
   "execution_count": 10,
   "id": "ea5af23e-5c0d-4ffe-a963-7db0bbf65ab3",
   "metadata": {},
   "outputs": [
    {
     "name": "stdout",
     "output_type": "stream",
     "text": [
      "(<class 'ml.MLP'>, {'hidden_size': 50, 'target_size': 10, 'nonlinearity1': Tanh(), 'nonlinearity2': Tanh()})\n",
      "cuda:1   0)   target:  1.981  decorr:  7.632   train: 0.450  test: 0.656\n",
      "cuda:1   1)   target:  1.275  decorr: 10.256   train: 0.743  test: 0.805\n",
      "cuda:1   3)   target:  0.573  decorr:  8.103   train: 0.884  test: 0.870\n",
      "cuda:1   5)   target:  0.367  decorr:  7.554   train: 0.917  test: 0.885\n",
      "cuda:1   7)   target:  0.276  decorr:  7.386   train: 0.935  test: 0.886\n",
      "cuda:1   9)   target:  0.220  decorr:  7.200   train: 0.950  test: 0.895\n",
      "cuda:1  11)   target:  0.180  decorr:  7.126   train: 0.958  test: 0.897\n",
      "cuda:1  13)   target:  0.145  decorr:  7.036   train: 0.971  test: 0.900\n",
      "cuda:1  15)   target:  0.120  decorr:  6.993   train: 0.978  test: 0.899\n",
      "cuda:1  17)   target:  0.101  decorr:  6.978   train: 0.985  test: 0.899\n",
      "cuda:1  19)   target:  0.086  decorr:  6.855   train: 0.990  test: 0.899\n",
      "cuda:1  21)   target:  0.073  decorr:  6.845   train: 0.994  test: 0.902\n",
      "cuda:1  23)   target:  0.063  decorr:  6.839   train: 0.995  test: 0.901\n",
      "cuda:1  25)   target:  0.055  decorr:  6.770   train: 0.996  test: 0.901\n",
      "cuda:1  27)   target:  0.047  decorr:  6.739   train: 0.998  test: 0.902\n",
      "cuda:1  29)   target:  0.041  decorr:  6.730   train: 0.998  test: 0.901\n",
      "cuda:1  31)   target:  0.037  decorr:  6.633   train: 0.999  test: 0.900\n",
      "cuda:1  33)   target:  0.033  decorr:  6.702   train: 0.999  test: 0.902\n",
      "cuda:1  35)   target:  0.029  decorr:  6.716   train: 0.999  test: 0.902\n",
      "cuda:1  37)   target:  0.027  decorr:  6.659   train: 0.999  test: 0.902\n",
      "cuda:1  39)   target:  0.024  decorr:  6.688   train: 0.999  test: 0.901\n",
      "\n",
      "Total execution time 5.792 sec\n"
     ]
    }
   ],
   "source": [
    "# >>>\n",
    "i_train = 1\n",
    "print(model)\n",
    "utils.start_timer()\n",
    "result = train.train(\n",
    "    **(kwargs_partial | {'print_epochs': 2}),\n",
    "    **kwargs_map[i_train]\n",
    ")\n",
    "utils.end_timer_and_print()\n",
    "# <<<"
   ]
  },
  {
   "cell_type": "code",
   "execution_count": 11,
   "id": "6555452b-a351-4434-88cd-1cd262602a62",
   "metadata": {
    "tags": []
   },
   "outputs": [],
   "source": [
    "if not utils.is_notebook():\n",
    "    train_partial = partial(train.train, **kwargs_partial)\n",
    "   \n",
    "    MAX_PROCESSES = 2 * torch.cuda.device_count()\n",
    "    \n",
    "    if __name__ == \"__main__\":\n",
    "        utils.start_timer()\n",
    "        mp.set_start_method('spawn', force=True)\n",
    "        \n",
    "        num_processes = min(len(kwargs_map), MAX_PROCESSES)\n",
    "        with mp.Pool(num_processes) as p:\n",
    "            results = utils.kwstarmap(p, train_partial, kwargs_map)\n",
    "\n",
    "        utils.end_timer_and_print()"
   ]
  },
  {
   "cell_type": "code",
   "execution_count": 38,
   "id": "e77c7d42-cebd-4dc0-a018-39b9186827fa",
   "metadata": {},
   "outputs": [
    {
     "name": "stderr",
     "output_type": "stream",
     "text": [
      "[NbConvertApp] Converting notebook 1task-digit.ipynb to script\n",
      "[NbConvertApp] Writing 6003 bytes to converted/1task-digit.py\n"
     ]
    },
    {
     "data": {
      "text/plain": [
       "0"
      ]
     },
     "execution_count": 38,
     "metadata": {},
     "output_type": "execute_result"
    }
   ],
   "source": [
    "# >>$ exclude from script to end of notebook\n",
    "subprocess.call([\"/bin/bash\", \"-c\",\n",
    "                 f\"$(pwd)/bin/nb2script.sh {nb_base}.ipynb\"])"
   ]
  },
  {
   "cell_type": "code",
   "execution_count": 26,
   "id": "3c38f15d-7a9d-445f-ac08-38964454680d",
   "metadata": {},
   "outputs": [
    {
     "name": "stdout",
     "output_type": "stream",
     "text": [
      "\n",
      "Total execution time 342.082 sec\n"
     ]
    }
   ],
   "source": [
    "nb_script = f\"converted/{nb_base}.py\"\n",
    "%run -i $nb_script"
   ]
  },
  {
   "cell_type": "markdown",
   "id": "49ea10c0-e09f-41ac-9cf5-02f6595e36df",
   "metadata": {},
   "source": [
    "# Results"
   ]
  },
  {
   "cell_type": "code",
   "execution_count": 27,
   "id": "50beeae4-ba15-429e-b794-f5acb768d24f",
   "metadata": {},
   "outputs": [],
   "source": [
    "losses = np.array([result[0] for result in results])\n",
    "train_accuracies = np.array([result[1] for result in results])\n",
    "test_accuracies = np.array([result[2] for result in results])"
   ]
  },
  {
   "cell_type": "code",
   "execution_count": 28,
   "id": "625022d8-16e5-476f-ac09-02d54d761d23",
   "metadata": {},
   "outputs": [],
   "source": [
    "if \"h5file\" in globals():\n",
    "    h5file.close()\n",
    "h5file = h5py.File(f\"results/{nb_base}.h5\", 'w')\n",
    "\n",
    "h5file.create_dataset(\"class_sizes\", data=class_sizes)\n",
    "h5file.create_dataset(\"losses\", data=losses)\n",
    "h5file.create_dataset(\"train_accuracies\", data=train_accuracies)\n",
    "h5file.create_dataset(\"test_accuracies\", data=test_accuracies)\n",
    "\n",
    "h5file.close()"
   ]
  },
  {
   "cell_type": "code",
   "execution_count": 29,
   "id": "8cc209de-ae17-4c05-8d73-7733d2e96d13",
   "metadata": {},
   "outputs": [],
   "source": [
    "sizes_by_criterion = np.array(class_sizes).reshape((2,-1))\n",
    "accuracies_by_criterion = test_accuracies[:,-1].reshape((2,-1))"
   ]
  },
  {
   "cell_type": "code",
   "execution_count": 30,
   "id": "e3f311e0-71fc-4706-9dc2-7367869e87b1",
   "metadata": {},
   "outputs": [
    {
     "data": {
      "image/png": "[encoded data removed]",
      "text/plain": [
       "<Figure size 432x360 with 1 Axes>"
      ]
     },
     "metadata": {
      "needs_background": "light"
     },
     "output_type": "display_data"
    }
   ],
   "source": [
    "colors = ('0.5', 'tab:blue')\n",
    "shift = 0.10\n",
    "shift_facs = sizes_by_criterion[0, 0] * np.array((-shift, shift))\n",
    "\n",
    "fig, ax = plt.subplots(figsize=(6, 5))\n",
    "for sizes, accuracies, shift, color \\\n",
    "in zip(sizes_by_criterion, accuracies_by_criterion, shift_facs, colors):\n",
    "    ax.scatter(sizes + shift, accuracies, color=color)\n",
    "ax.set_xticks(CLASS_SIZES)\n",
    "ax.xaxis.set_major_formatter(ticker.ScalarFormatter())\n",
    "ax.xaxis.set_minor_formatter(ticker.NullFormatter())\n",
    "fig.show()"
   ]
  },
  {
   "cell_type": "code",
   "execution_count": null,
   "id": "59f9fdbf-d1cc-4895-9030-53b8bce08cdd",
   "metadata": {},
   "outputs": [],
   "source": []
  },
  {
   "cell_type": "code",
   "execution_count": null,
   "id": "cbfb2e17-7975-419d-966d-07512ef31adc",
   "metadata": {},
   "outputs": [],
   "source": []
  }
 ],
 "metadata": {
  "kernelspec": {
   "display_name": "Python 3 (ipykernel)",
   "language": "python",
   "name": "python3"
  },
  "language_info": {
   "codemirror_mode": {
    "name": "ipython",
    "version": 3
   },
   "file_extension": ".py",
   "mimetype": "text/x-python",
   "name": "python",
   "nbconvert_exporter": "python",
   "pygments_lexer": "ipython3",
   "version": "3.9.2"
  }
 },
 "nbformat": 4,
 "nbformat_minor": 5
}
